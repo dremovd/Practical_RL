{
 "cells": [
  {
   "attachments": {},
   "cell_type": "markdown",
   "metadata": {},
   "source": [
    "### Project :: Evolution Strategies\n",
    "\n",
    "![img](https://t4.ftcdn.net/jpg/00/17/46/81/240_F_17468143_wY3hsHyfNYoMdG9BlC56HI4JA7pNu63h.jpg)\n",
    "\n",
    "Remember the idea behind Evolution Strategies? Here's a neat [blog post](https://openai.com/research/evolution-strategies) about 'em.\n",
    "\n",
    "Can you reproduce their success? You will have to implement evolutionary strategies and see how they work.\n",
    "\n",
    "This project is optional; has several milestones each worth a number of points [and swag].\n",
    "\n",
    "__Milestones:__\n",
    "* [10pts] Basic prototype of evolutionary strategies that works in one thread on CartPole\n",
    "* [+5pts] Modify the code to make them work in parallel\n",
    "* [+5pts] if you can run ES distributedly on at least two PCs\n",
    "* [+10pts] Apply ES to play Atari Pong at least better than random\n",
    "* [++] Additional points for all kinds of cool stuff besides milestones\n",
    "\n",
    "__Rules:__\n",
    "\n",
    "* This is __not a mandatory assignment__, but it's a way to learn some cool things if you're getting bored with default assignments.\n",
    "* Once you decided to take on this project, please tell any of course staff members so that we can help ypu if you get stuck.\n",
    "* There's a default implementation of ES in this [openai repo](https://github.com/openai/evolution-strategies-starter). It's okay to look there if you get stuck or want to compare your solutions, but each copy-pasted chunk of code should be understood thoroughly. We'll test that with questions."
   ]
  },
  {
   "attachments": {},
   "cell_type": "markdown",
   "metadata": {},
   "source": [
    "### Tips on implementation\n",
    "\n",
    "* It would be very convenient later if you implemented a function that takes policy weights, generates a session and returns policy changes -- so that you could then run a bunch of them in parallel.\n",
    "\n",
    "* The simplest way you can do multiprocessing is to use [joblib](https://www.google.com/search?client=ubuntu&channel=fs&q=joblib&ie=utf-8&oe=utf-8)\n",
    "\n",
    "* For joblib, make sure random variables are independent in each job. Simply add `np.random.seed()` at the beginning of your \"job\" function.\n",
    "\n",
    "Later once you got distributed, you may need a storage that gathers gradients from all workers. In such case we recommend [Redis](https://redis.io/) due to it's simplicity.\n",
    "\n",
    "Here's a speed-optimized saver/loader to store numpy arrays in Redis as strings.\n",
    "\n"
   ]
  },
  {
   "cell_type": "code",
   "execution_count": 1,
   "metadata": {},
   "outputs": [
    {
     "name": "stdout",
     "output_type": "stream",
     "text": [
      "crossentropy_method.ipynb\t\t    __pycache__\n",
      "deep_crossentropy_method-continious.ipynb   README.md\n",
      "deep_crossentropy_method.ipynb\t\t    seminar-es-task.ipynb\n",
      "pong.py\t\t\t\t\t    seminar_gym_interface.ipynb\n",
      "primer_python_for_ml\t\t\t    videos\n",
      "project_starter_evolution_strategies.ipynb\n"
     ]
    }
   ],
   "source": [
    "import os\n",
    "\n",
    "os.chdir('courses/Practical_RL/week01_intro/')\n",
    "!ls"
   ]
  },
  {
   "cell_type": "code",
   "execution_count": 2,
   "metadata": {},
   "outputs": [],
   "source": [
    "import numpy as np"
   ]
  },
  {
   "attachments": {},
   "cell_type": "markdown",
   "metadata": {},
   "source": [
    "## [10pts] Basic prototype of evolutionary strategies that works in one thread on CartPole\n",
    "## [+5pts] Modify the code to make them work in parallel\n"
   ]
  },
  {
   "cell_type": "code",
   "execution_count": 3,
   "metadata": {},
   "outputs": [],
   "source": [
    "env_name = \"CartPole-v1\""
   ]
  },
  {
   "cell_type": "code",
   "execution_count": 4,
   "metadata": {},
   "outputs": [],
   "source": [
    "import gym\n",
    "import numpy as np\n",
    "import matplotlib.pyplot as plt\n",
    "%matplotlib inline"
   ]
  },
  {
   "cell_type": "code",
   "execution_count": 5,
   "metadata": {},
   "outputs": [
    {
     "name": "stdout",
     "output_type": "stream",
     "text": [
      "Starting virtual X frame buffer: Xvfb.\n"
     ]
    }
   ],
   "source": [
    "import sys, os\n",
    "if type(os.environ.get(\"DISPLAY\")) is not str or len(os.environ.get(\"DISPLAY\")) == 0:\n",
    "    !bash ../xvfb start\n",
    "    os.environ['DISPLAY'] = ':1'"
   ]
  },
  {
   "cell_type": "code",
   "execution_count": 6,
   "metadata": {},
   "outputs": [
    {
     "name": "stdout",
     "output_type": "stream",
     "text": [
      "state vector dim = 4\n",
      "n_actions = 2\n"
     ]
    },
    {
     "data": {
      "image/png": "[encoded data removed]",
      "text/plain": [
       "<Figure size 640x480 with 1 Axes>"
      ]
     },
     "metadata": {},
     "output_type": "display_data"
    }
   ],
   "source": [
    "env = gym.make(id=env_name, render_mode='rgb_array')\n",
    "\n",
    "env.reset()\n",
    "n_actions = env.action_space.n\n",
    "state_dim = env.observation_space.shape[0]\n",
    "\n",
    "plt.imshow(env.render())\n",
    "print(\"state vector dim =\", state_dim)\n",
    "print(\"n_actions =\", n_actions)"
   ]
  },
  {
   "cell_type": "code",
   "execution_count": 7,
   "metadata": {},
   "outputs": [],
   "source": [
    "import torch\n",
    "import torch.nn as nn\n",
    "\n",
    "class MLP(nn.Module):\n",
    "    def __init__(self, input_size, hidden_size, output_size):\n",
    "        super().__init__()\n",
    "        self.fc1 = nn.Linear(input_size, hidden_size)\n",
    "        self.fc2 = nn.Linear(hidden_size, hidden_size)\n",
    "        self.fc3 = nn.Linear(hidden_size, output_size)\n",
    "        self.activation = nn.Tanh()\n",
    "\n",
    "    def forward(self, x):\n",
    "        x = self.activation(self.fc1(x))\n",
    "        x = self.activation(self.fc2(x))\n",
    "        x = self.fc3(x)\n",
    "        return x\n",
    "\n",
    "input_size = env.observation_space.shape[0]\n",
    "hidden_size = 32\n",
    "output_size = env.action_space.n\n",
    "\n",
    "agent = MLP(input_size, hidden_size, output_size)\n",
    "\n"
   ]
  },
  {
   "cell_type": "code",
   "execution_count": 8,
   "metadata": {},
   "outputs": [],
   "source": [
    "def generate_session(env, agent, t_max=1000, video_recorder=None):\n",
    "    \"\"\"\n",
    "    Play a full session with recording.\n",
    "    Terminate when game finishes or after :t_max: steps.\n",
    "    \"\"\"\n",
    "    total_reward = 0\n",
    "    s, *_ = env.reset()\n",
    "    s = torch.tensor(s, dtype=torch.float32)\n",
    "    for t in range(t_max):\n",
    "        # use agent to predict a vector of action probabilities for state :s:\n",
    "        logits = agent(s.unsqueeze(0))\n",
    "        probs = torch.softmax(logits, dim=1)[0].detach().numpy()\n",
    "        assert probs.shape == (env.action_space.n,), \"make sure probabilities are a vector (hint: np.reshape)\"\n",
    "        \n",
    "        # use the probabilities you predicted to pick an action\n",
    "        # sample proportionally to the probabilities, don't just take the most likely action\n",
    "        a = np.random.choice(env.action_space.n, p=probs)\n",
    "        \n",
    "        new_s, r, done, is_truncated, info = env.step(a)\n",
    "        \n",
    "        # record session\n",
    "        if video_recorder is not None:\n",
    "            video_recorder.capture_frame()\n",
    "        \n",
    "        # store state, action and reward to lists\n",
    "        total_reward += r\n",
    "        new_s = torch.tensor(new_s, dtype=torch.float32)\n",
    "        \n",
    "        s = new_s\n",
    "        if done:\n",
    "            break\n",
    "    return total_reward"
   ]
  },
  {
   "cell_type": "code",
   "execution_count": 9,
   "metadata": {},
   "outputs": [
    {
     "name": "stdout",
     "output_type": "stream",
     "text": [
      "reward: 5.0\n"
     ]
    },
    {
     "name": "stderr",
     "output_type": "stream",
     "text": [
      "/home/morph/anaconda3/envs/py310/lib/python3.10/site-packages/gym/utils/passive_env_checker.py:233: DeprecationWarning: `np.bool8` is a deprecated alias for `np.bool_`.  (Deprecated NumPy 1.24)\n",
      "  if not isinstance(terminated, (bool, np.bool8)):\n"
     ]
    }
   ],
   "source": [
    "dummy_reward = generate_session(env, agent, t_max=5)\n",
    "print(\"reward:\", dummy_reward)"
   ]
  },
  {
   "cell_type": "code",
   "execution_count": 10,
   "metadata": {},
   "outputs": [],
   "source": [
    "from IPython.display import clear_output\n",
    "\n",
    "def show_progress(rewards_batch, log, reward_range=[-990, +10]):\n",
    "    \"\"\"\n",
    "    A convenience function that displays training progress. \n",
    "    No cool math here, just charts.\n",
    "    \"\"\"\n",
    "\n",
    "    mean_reward = np.mean(rewards_batch)\n",
    "\n",
    "    clear_output(True)\n",
    "    print(\"mean reward = %.3f\" % (mean_reward))\n",
    "    plt.figure(figsize=[8, 4])\n",
    "    plt.subplot(1, 2, 1)\n",
    "    plt.plot(list(zip(*log))[0], label='Mean rewards')\n",
    "    plt.legend()\n",
    "    plt.grid()\n",
    "\n",
    "    plt.subplot(1, 2, 2)\n",
    "    plt.hist(rewards_batch, range=reward_range, bins=50)\n",
    "    plt.legend()\n",
    "    plt.grid()\n",
    "\n",
    "    plt.show()"
   ]
  },
  {
   "cell_type": "code",
   "execution_count": 11,
   "metadata": {},
   "outputs": [],
   "source": [
    "log = []"
   ]
  },
  {
   "cell_type": "code",
   "execution_count": 12,
   "metadata": {},
   "outputs": [],
   "source": [
    "from collections import OrderedDict\n",
    "\n",
    "def get_mlp_parameters(agent):\n",
    "    return np.concatenate([p.detach().numpy().flatten() for p in agent.parameters()])\n",
    "\n",
    "def set_mlp_parameters(agent, parameters):\n",
    "    shapes = [p.shape for p in agent.parameters()]\n",
    "    total_size = sum(np.product(s) for s in shapes)\n",
    "    assert total_size == parameters.shape[0], \"number of parameters should be %i but is %i\" % (total_size, parameters.shape[0])\n",
    "    \n",
    "    split_ix = np.cumsum([np.product(s) for s in shapes])[:-1]\n",
    "    split_parameters = np.split(parameters, split_ix)\n",
    "    reshaped_parameters = [torch.tensor(p.reshape(s)) for p, s in zip(split_parameters, shapes)]\n",
    "    \n",
    "    state_dict = OrderedDict(zip(agent.state_dict().keys(), reshaped_parameters))\n",
    "    agent.load_state_dict(state_dict)"
   ]
  },
  {
   "cell_type": "code",
   "execution_count": 13,
   "metadata": {},
   "outputs": [],
   "source": [
    "parameters = get_mlp_parameters(agent)\n",
    "set_mlp_parameters(agent, parameters)"
   ]
  },
  {
   "cell_type": "code",
   "execution_count": 14,
   "metadata": {},
   "outputs": [],
   "source": [
    "t_max = 250\n",
    "REWARD_WIN = 0.9 * t_max"
   ]
  },
  {
   "cell_type": "code",
   "execution_count": 15,
   "metadata": {},
   "outputs": [
    {
     "name": "stderr",
     "output_type": "stream",
     "text": [
      "No artists with labels found to put in legend.  Note that artists whose label start with an underscore are ignored when legend() is called with no argument.\n"
     ]
    },
    {
     "name": "stdout",
     "output_type": "stream",
     "text": [
      "mean reward = 228.729\n"
     ]
    },
    {
     "data": {
      "image/png": "[encoded data removed]",
      "text/plain": [
       "<Figure size 800x400 with 2 Axes>"
      ]
     },
     "metadata": {},
     "output_type": "display_data"
    },
    {
     "name": "stdout",
     "output_type": "stream",
     "text": [
      "You Win!\n"
     ]
    }
   ],
   "source": [
    "# import itertools\n",
    "from joblib import Parallel, delayed\n",
    "import numpy as np\n",
    "import warnings\n",
    "\n",
    "npop = 48      # population size\n",
    "sigma = 0.1    # noise standard deviation\n",
    "alpha = 0.005  # learning rate\n",
    "n_jobs = 16\n",
    "\n",
    "def calculate_noise_reward(agent, parameters, noise, sigma, t_max):\n",
    "    with warnings.catch_warnings():\n",
    "        warnings.filterwarnings(\"ignore\", category=DeprecationWarning)\n",
    "        env = gym.make(id=env_name)\n",
    "        noised_parameters = parameters + sigma * noise\n",
    "        set_mlp_parameters(agent, noised_parameters)\n",
    "        R = generate_session(env, agent, t_max=t_max)\n",
    "\n",
    "    return R\n",
    "\n",
    "def calculate_rewards_batch(agent, parameters, npop, sigma, t_max):\n",
    "    N = np.random.randn(npop, parameters.shape[0])\n",
    "    R = Parallel(n_jobs=n_jobs)(\n",
    "        delayed(calculate_noise_reward)(agent, parameters, N[j], sigma, t_max)\n",
    "        for j in range(npop)\n",
    "    )\n",
    "    R = np.array(R)\n",
    "    return R, N\n",
    "\n",
    "for i in range(300):\n",
    "    parameters = get_mlp_parameters(agent)\n",
    "    R, N = calculate_rewards_batch(agent, parameters, npop, sigma, t_max)\n",
    "    A = (R - np.mean(R)) / (0.00001 + np.std(R))\n",
    "    parameters = parameters + alpha / (npop * sigma) * np.dot(N.T, A)\n",
    "    set_mlp_parameters(agent, parameters)\n",
    "    log.append([np.mean(R)])\n",
    "    if i % 10 == 0:\n",
    "        show_progress(R, log, reward_range=[0, np.max(R)])\n",
    "        if np.mean(R) > REWARD_WIN:\n",
    "            print(\"You Win!\")\n",
    "            break"
   ]
  },
  {
   "cell_type": "markdown",
   "metadata": {},
   "source": [
    "def generate_session(env, agent, t_max=1000, video_recorder=None):\n",
    "    \"\"\"Play a full session with recording\"\"\"\n",
    "    total_reward = 0\n",
    "    s, *_ = env.reset()\n",
    "    s = np.array(s)\n",
    "    for t in range(t_max):\n",
    "        # use agent to predict a vector of action probabilities for state :s:\n",
    "        probs = agent.predict_proba(s.reshape(1, -1))[0]\n",
    "        # sample action with given probabilities\n",
    "        a = np.argmax(probs)\n",
    "        new_s, r, done, is_truncated, info = env.step(a)\n",
    "        # record session\n",
    "        if video_recorder is not None:\n",
    "            video_recorder.capture_frame()\n",
    "        # store state, action and reward to lists\n",
    "        total_reward += r\n",
    "        s = np.array(new_s)\n",
    "        if done:\n",
    "            break\n",
    "    return total_reward"
   ]
  },
  {
   "cell_type": "code",
   "execution_count": 16,
   "metadata": {},
   "outputs": [],
   "source": [
    "import skvideo.io\n",
    "\n",
    "class VideoRecorder(gym.Wrapper):\n",
    "    def __init__(self, env, path=None, metadata=None, enabled=True):\n",
    "        super().__init__(env)\n",
    "        self.enabled = enabled\n",
    "        self.metadata = metadata or {}\n",
    "        self.path = path\n",
    "        self.frames = []\n",
    "        self.render_history = []\n",
    "        self.encoder = None\n",
    "\n",
    "    def capture_frame(self):\n",
    "        frame = self.env.render()\n",
    "        self.frames.append(frame)\n",
    "\n",
    "    def close(self):\n",
    "        try:\n",
    "            if self.encoder is not None:\n",
    "                self.encoder.close()\n",
    "                self.encoder = None\n",
    "            if self.path:\n",
    "                if self.frames:\n",
    "                    skvideo.io.vwrite(self.path, self.frames)\n",
    "                self.frames = []\n",
    "        except Exception as e:\n",
    "            print(f\"Error when closing video recorder: {e}\")\n",
    "\n",
    "    @property\n",
    "    def functional(self):\n",
    "        \"\"\"Returns if the video recorder is functional, is enabled and not closed.\"\"\"\n",
    "        return self.enabled and not self.closed"
   ]
  },
  {
   "cell_type": "code",
   "execution_count": 17,
   "metadata": {},
   "outputs": [
    {
     "name": "stderr",
     "output_type": "stream",
     "text": [
      "/home/morph/anaconda3/envs/py310/lib/python3.10/site-packages/gym/utils/passive_env_checker.py:233: DeprecationWarning: `np.bool8` is a deprecated alias for `np.bool_`.  (Deprecated NumPy 1.24)\n",
      "  if not isinstance(terminated, (bool, np.bool8)):\n"
     ]
    },
    {
     "name": "stdout",
     "output_type": "stream",
     "text": [
      "Session 1: reward=250.00\n",
      "Average reward: 250.00\n"
     ]
    }
   ],
   "source": [
    "# Record sessions\n",
    "# from gym.wrappers.monitoring.video_recorder import VideoRecorder\n",
    "\n",
    "env = gym.make(env_name, render_mode='rgb_array')\n",
    "env_monitor = VideoRecorder(env, path=\"videos/video.mp4\")\n",
    "env_monitor.enabled = True\n",
    "\n",
    "rewards = []\n",
    "for i in range(1):\n",
    "    reward = generate_session(env, agent, t_max, video_recorder=env_monitor)\n",
    "    rewards.append(reward)\n",
    "    print(f\"Session {i+1}: reward={reward:.2f}\")\n",
    "\n",
    "env_monitor.close()\n",
    "print(f\"Average reward: {np.mean(rewards):.2f}\")"
   ]
  },
  {
   "cell_type": "code",
   "execution_count": null,
   "metadata": {},
   "outputs": [],
   "source": []
  }
 ],
 "metadata": {
  "kernelspec": {
   "display_name": "py310",
   "language": "python",
   "name": "py310"
  },
  "language_info": {
   "codemirror_mode": {
    "name": "ipython",
    "version": 3
   },
   "file_extension": ".py",
   "mimetype": "text/x-python",
   "name": "python",
   "nbconvert_exporter": "python",
   "pygments_lexer": "ipython3",
   "version": "3.10.10"
  }
 },
 "nbformat": 4,
 "nbformat_minor": 2
}
