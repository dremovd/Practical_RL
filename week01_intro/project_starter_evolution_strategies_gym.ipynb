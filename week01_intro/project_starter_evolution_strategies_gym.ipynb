{
 "cells": [
  {
   "attachments": {},
   "cell_type": "markdown",
   "metadata": {},
   "source": [
    "### Project :: Evolution Strategies\n",
    "\n",
    "![img](https://t4.ftcdn.net/jpg/00/17/46/81/240_F_17468143_wY3hsHyfNYoMdG9BlC56HI4JA7pNu63h.jpg)\n",
    "\n",
    "Remember the idea behind Evolution Strategies? Here's a neat [blog post](https://openai.com/research/evolution-strategies) about 'em.\n",
    "\n",
    "Can you reproduce their success? You will have to implement evolutionary strategies and see how they work.\n",
    "\n",
    "This project is optional; has several milestones each worth a number of points [and swag].\n",
    "\n",
    "__Milestones:__\n",
    "* [10pts] Basic prototype of evolutionary strategies that works in one thread on CartPole\n",
    "* [+5pts] Modify the code to make them work in parallel\n",
    "* [+5pts] if you can run ES distributedly on at least two PCs\n",
    "* [+10pts] Apply ES to play Atari Pong at least better than random\n",
    "* [++] Additional points for all kinds of cool stuff besides milestones\n",
    "\n",
    "__Rules:__\n",
    "\n",
    "* This is __not a mandatory assignment__, but it's a way to learn some cool things if you're getting bored with default assignments.\n",
    "* Once you decided to take on this project, please tell any of course staff members so that we can help ypu if you get stuck.\n",
    "* There's a default implementation of ES in this [openai repo](https://github.com/openai/evolution-strategies-starter). It's okay to look there if you get stuck or want to compare your solutions, but each copy-pasted chunk of code should be understood thoroughly. We'll test that with questions."
   ]
  },
  {
   "attachments": {},
   "cell_type": "markdown",
   "metadata": {},
   "source": [
    "### Tips on implementation\n",
    "\n",
    "* It would be very convenient later if you implemented a function that takes policy weights, generates a session and returns policy changes -- so that you could then run a bunch of them in parallel.\n",
    "\n",
    "* The simplest way you can do multiprocessing is to use [joblib](https://www.google.com/search?client=ubuntu&channel=fs&q=joblib&ie=utf-8&oe=utf-8)\n",
    "\n",
    "* For joblib, make sure random variables are independent in each job. Simply add `np.random.seed()` at the beginning of your \"job\" function.\n",
    "\n",
    "Later once you got distributed, you may need a storage that gathers gradients from all workers. In such case we recommend [Redis](https://redis.io/) due to it's simplicity.\n",
    "\n",
    "Here's a speed-optimized saver/loader to store numpy arrays in Redis as strings.\n",
    "\n"
   ]
  },
  {
   "cell_type": "code",
   "execution_count": 1,
   "metadata": {},
   "outputs": [],
   "source": [
    "import sys"
   ]
  },
  {
   "cell_type": "code",
   "execution_count": 2,
   "metadata": {},
   "outputs": [],
   "source": [
    "import joblib\n",
    "from six import BytesIO\n",
    "\n",
    "\n",
    "def dumps(data):\n",
    "    \"\"\"converts whatever to string\"\"\"\n",
    "    s = BytesIO()\n",
    "    joblib.dump(data, s)\n",
    "    return s.getvalue()\n",
    "\n",
    "\n",
    "def loads(self, string):\n",
    "    \"\"\"converts string to whatever was dumps'ed in it\"\"\"\n",
    "    return joblib.load(BytesIO(string))"
   ]
  },
  {
   "attachments": {},
   "cell_type": "markdown",
   "metadata": {},
   "source": [
    "### Tips on Atari games\n",
    "* There's all the pre-processing and tuning done for you in the code below\n",
    "    * Images rescaled to 42x42 to speed up computation\n",
    "    * We use last 4 frames as observations to account for ball velocity\n",
    "    * The code below requires ```pip install Image``` and ```pip install gym[atari]``` \n",
    "    * You may also need some dependencies for gym[atari] - google \"gym install all\" dependencies or use our pre-built environment.\n",
    "* The recommended agent architecture is a convolutional neural network. Dense network will also do.\n",
    "\n",
    "\n",
    "May the force be with you!"
   ]
  },
  {
   "cell_type": "code",
   "execution_count": 3,
   "metadata": {},
   "outputs": [
    {
     "name": "stdout",
     "output_type": "stream",
     "text": [
      "crossentropy_method.ipynb\n",
      "deep_crossentropy_method-continious.ipynb\n",
      "deep_crossentropy_method.ipynb\n",
      "LunarLander-v2_agent_10.pth\n",
      "LunarLander-v2_agent_12.pth\n",
      "LunarLander-v2_agent_13.pth\n",
      "LunarLander-v2_agent_4.pth\n",
      "LunarLander-v2_agent_9.pth\n",
      "LunarLander-v2_log_10.pkl\n",
      "LunarLander-v2_log_12.pkl\n",
      "LunarLander-v2_log_13.pkl\n",
      "LunarLander-v2_log_4.pkl\n",
      "LunarLander-v2_log_9.pkl\n",
      "pong_agent_{experiment_id}.pth\n",
      "pong_agent_log_10.pkl\n",
      "pong_agent_log_11.pkl\n",
      "pong_agent_log_12.pkl\n",
      "pong_agent_log_13.pkl\n",
      "pong_agent_log_14.pkl\n",
      "pong_agent_log_15.pkl\n",
      "pong_agent_log_16.pkl\n",
      "pong_agent_log_17.pkl\n",
      "pong_agent_log_18.pkl\n",
      "pong_agent_log_19.pkl\n",
      "pong_agent_log_20.pkl\n",
      "pong_agent_log_21.pkl\n",
      "pong_agent_log_22.pkl\n",
      "pong_agent_log_24.pkl\n",
      "pong_agent_log_25.pkl\n",
      "pong_agent_log_26.pkl\n",
      "pong_agent_log_27.pkl\n",
      "pong_agent_log_28.pkl\n",
      "pong_agent_log_29.pkl\n",
      "pong_agent_log_2.pkl\n",
      "pong_agent_log_30.pkl\n",
      "pong_agent_log_31.pkl\n",
      "pong_agent_log_3.pkl\n",
      "pong_agent_log_4.pkl\n",
      "pong_agent_log_5.pkl\n",
      "pong_agent_log_6.pkl\n",
      "pong_agent_log_7.pkl\n",
      "pong_agent_log_8.pkl\n",
      "pong_agent_log_9.pkl\n",
      "pong_agent_log.pkl\n",
      "pong_agent.pth\n",
      "pong.py\n",
      "primer_python_for_ml\n",
      "project_starter_evolution_strategies.ipynb\n",
      "__pycache__\n",
      "README.md\n",
      "seminar-es-task.ipynb\n",
      "seminar_gym_interface.ipynb\n",
      "videos\n"
     ]
    }
   ],
   "source": [
    "import os\n",
    "\n",
    "os.chdir('courses/Practical_RL/week01_intro/')\n",
    "!ls"
   ]
  },
  {
   "cell_type": "code",
   "execution_count": 4,
   "metadata": {},
   "outputs": [
    {
     "name": "stdout",
     "output_type": "stream",
     "text": [
      "Discrete(4)\n"
     ]
    }
   ],
   "source": [
    "from pong import make_pong\n",
    "import numpy as np\n",
    "import gym\n",
    "\n",
    "env_name = 'LunarLander-v2'\n",
    "env = gym.make(env_name)\n",
    "print(env.action_space)"
   ]
  },
  {
   "cell_type": "code",
   "execution_count": 5,
   "metadata": {},
   "outputs": [
    {
     "name": "stdout",
     "output_type": "stream",
     "text": [
      "(8,)\n"
     ]
    }
   ],
   "source": [
    "# get the initial state\n",
    "s, _ = env.reset()\n",
    "print(s.shape)"
   ]
  },
  {
   "cell_type": "code",
   "execution_count": 6,
   "metadata": {},
   "outputs": [
    {
     "name": "stderr",
     "output_type": "stream",
     "text": [
      "/home/morph/anaconda3/envs/py310/lib/python3.10/site-packages/gym/utils/passive_env_checker.py:233: DeprecationWarning: `np.bool8` is a deprecated alias for `np.bool_`.  (Deprecated NumPy 1.24)\n",
      "  if not isinstance(terminated, (bool, np.bool8)):\n"
     ]
    }
   ],
   "source": [
    "# next frame\n",
    "new_s, r, done, is_truncated, _ = env.step(env.action_space.sample())"
   ]
  },
  {
   "cell_type": "code",
   "execution_count": 7,
   "metadata": {},
   "outputs": [
    {
     "name": "stdout",
     "output_type": "stream",
     "text": [
      "-2.9321957063698845\n",
      "-1.0636309257969174\n",
      "-4.925438125005729\n",
      "0.48956620602987755\n",
      "1.3540046046182124\n",
      "-2.6377041615194683\n",
      "0.6812425755601907\n",
      "0.6826900504109403\n",
      "0.6798159553314349\n",
      "-0.09180985301443798\n"
     ]
    }
   ],
   "source": [
    "# after 10 frames\n",
    "for _ in range(10):\n",
    "    new_s, r, done, is_truncated, _ = env.step(env.action_space.sample())\n",
    "    print(r)"
   ]
  },
  {
   "attachments": {},
   "cell_type": "markdown",
   "metadata": {},
   "source": [
    "## [+10pts] Apply ES to Lunar Lander"
   ]
  },
  {
   "cell_type": "code",
   "execution_count": 8,
   "metadata": {},
   "outputs": [],
   "source": [
    "import numpy as np\n",
    "import matplotlib.pyplot as plt\n",
    "%matplotlib inline"
   ]
  },
  {
   "cell_type": "code",
   "execution_count": 9,
   "metadata": {},
   "outputs": [
    {
     "name": "stdout",
     "output_type": "stream",
     "text": [
      "Starting virtual X frame buffer: Xvfb.\n"
     ]
    }
   ],
   "source": [
    "import os\n",
    "\n",
    "# This code creates a virtual display to draw game images on.\n",
    "# It will have no effect if your machine has a monitor.\n",
    "if type(os.environ.get(\"DISPLAY\")) is not str or len(os.environ.get(\"DISPLAY\")) == 0:\n",
    "    !bash ../xvfb start\n",
    "    os.environ['DISPLAY'] = ':1'"
   ]
  },
  {
   "cell_type": "code",
   "execution_count": 10,
   "metadata": {},
   "outputs": [
    {
     "data": {
      "text/plain": [
       "4"
      ]
     },
     "execution_count": 10,
     "metadata": {},
     "output_type": "execute_result"
    }
   ],
   "source": [
    "import torch\n",
    "import torch.nn as nn\n",
    "import torch.nn.functional as F\n",
    "\n",
    "input_shape = (8,)\n",
    "n_actions = env.action_space.n\n",
    "class MLP(nn.Module):\n",
    "    def __init__(self, input_shape, num_actions):\n",
    "        super().__init__()\n",
    "        self.fc1 = nn.Linear(input_shape[0], 64)\n",
    "        self.fc2 = nn.Linear(64, 64)\n",
    "        self.head = nn.Linear(64, num_actions)\n",
    "\n",
    "    def forward(self, x):\n",
    "        assert x.shape[1:] == input_shape\n",
    "        x = x.float()\n",
    "        x = F.relu(self.fc1(x))\n",
    "        x = F.relu(self.fc2(x))\n",
    "        x = F.relu(x)\n",
    "        return self.head(x)\n",
    "        \n",
    "agent = MLP(input_shape, n_actions)\n",
    "n_actions"
   ]
  },
  {
   "cell_type": "code",
   "execution_count": 11,
   "metadata": {},
   "outputs": [],
   "source": [
    "from PIL import Image\n",
    "from collections import Counter\n",
    "\n",
    "def generate_session(env, agent, t_max=1000, video_recorder=None, softmax_to_argmax=0.5):\n",
    "    state, _ = env.reset()\n",
    "    total_reward = 0\n",
    "    actions = []\n",
    "    for t in range(t_max):\n",
    "        # use agent to predict a vector of action probabilities for state :s:\n",
    "        state = torch.tensor(state.reshape((1,) + state.shape), dtype=torch.float32)\n",
    "        logits = agent(state)\n",
    "        if softmax_to_argmax < 0.001:\n",
    "            softmax_to_argmax = 0.001\n",
    "        probs = torch.softmax(logits / softmax_to_argmax, dim=1)[0].detach().numpy()\n",
    "        a = np.random.choice(n_actions, p=probs)\n",
    "        # a = np.argmax(probs)\n",
    "        actions.append(a)\n",
    "        # apply action to the environment, get rewards and new state\n",
    "        state, r, done, is_trucanted, info = env.step(a)\n",
    "        total_reward += r\n",
    "\n",
    "        # record session if a video_recorder object is provided\n",
    "        if video_recorder is not None:\n",
    "            video_recorder.capture_frame()\n",
    "\n",
    "        if done:\n",
    "            break\n",
    "    # print(total_reward, Counter(actions).most_common(), file=sys.stderr)\n",
    "\n",
    "    return total_reward"
   ]
  },
  {
   "cell_type": "code",
   "execution_count": 12,
   "metadata": {},
   "outputs": [
    {
     "name": "stdout",
     "output_type": "stream",
     "text": [
      "reward: -61.0714206676573\n"
     ]
    }
   ],
   "source": [
    "dummy_reward = generate_session(env, agent, t_max=100)\n",
    "print(\"reward:\", dummy_reward)"
   ]
  },
  {
   "cell_type": "code",
   "execution_count": 13,
   "metadata": {},
   "outputs": [],
   "source": [
    "from IPython.display import clear_output\n",
    "\n",
    "def moving_average(x, w):\n",
    "    return np.convolve(x, np.ones(w), 'valid') / w\n",
    "\n",
    "def show_progress(rewards_batch, log, reward_range=[-990, +10]):\n",
    "    \"\"\"\n",
    "    A convenience function that displays training progress. \n",
    "    No cool math here, just charts.\n",
    "    \"\"\"\n",
    "\n",
    "    mean_reward = np.mean(rewards_batch)\n",
    "    \n",
    "    clear_output(True)\n",
    "    print(\"mean reward = %.3f\" % (mean_reward))\n",
    "    plt.figure(figsize=[8, 4])\n",
    "    plt.subplot(1, 2, 1)\n",
    "    plt.plot(moving_average([r[0] for r in log], 5), label='Mean rewards')\n",
    "    plt.legend()\n",
    "    plt.grid()\n",
    "\n",
    "    plt.subplot(1, 2, 2)\n",
    "    plt.hist(rewards_batch, range=reward_range, bins=50)\n",
    "    plt.legend()\n",
    "    plt.grid()\n",
    "\n",
    "    plt.show()"
   ]
  },
  {
   "cell_type": "code",
   "execution_count": 14,
   "metadata": {},
   "outputs": [],
   "source": [
    "log = []"
   ]
  },
  {
   "cell_type": "code",
   "execution_count": 15,
   "metadata": {},
   "outputs": [],
   "source": [
    "from collections import OrderedDict\n",
    "\n",
    "def get_agent_parameters(agent):\n",
    "    return np.concatenate([\n",
    "        p.detach().numpy().flatten() \n",
    "        for p in agent.parameters()\n",
    "    ])\n",
    "\n",
    "def set_agent_parameters(agent, parameters):\n",
    "    shapes = [p.shape for p in agent.parameters()]\n",
    "    total_size = sum(np.product(s) for s in shapes)\n",
    "    assert total_size == parameters.shape[0], \"number of parameters should be %i but is %i\" % (total_size, parameters.shape[0])\n",
    "    \n",
    "    split_ix = np.cumsum([np.product(s) for s in shapes])[:-1]\n",
    "    split_parameters = np.split(parameters, split_ix)\n",
    "    reshaped_parameters = [torch.tensor(p.reshape(s)) for p, s in zip(split_parameters, shapes)]\n",
    "    \n",
    "    state_dict = OrderedDict(zip(agent.state_dict().keys(), reshaped_parameters))\n",
    "    agent.load_state_dict(state_dict)"
   ]
  },
  {
   "cell_type": "code",
   "execution_count": 16,
   "metadata": {},
   "outputs": [],
   "source": [
    "parameters = get_agent_parameters(agent)\n",
    "set_agent_parameters(agent, parameters)"
   ]
  },
  {
   "cell_type": "code",
   "execution_count": 17,
   "metadata": {},
   "outputs": [],
   "source": [
    "REWARD_WIN = 1000"
   ]
  },
  {
   "cell_type": "code",
   "execution_count": 18,
   "metadata": {},
   "outputs": [],
   "source": [
    "experiment_id = 13\n",
    "reward_log_name = f'{env_name}_log_{experiment_id}.pkl'\n",
    "agent_weights_name = f'{env_name}_agent_{experiment_id}.pth'\n",
    "start_with_best = True"
   ]
  },
  {
   "cell_type": "code",
   "execution_count": 19,
   "metadata": {},
   "outputs": [],
   "source": [
    "import joblib\n",
    "from joblib import Parallel, delayed\n",
    "\n",
    "if start_with_best:\n",
    "    try:\n",
    "        log = joblib.load(reward_log_name)\n",
    "        agent = MLP(input_shape, n_actions)\n",
    "        agent.load_state_dict(torch.load(agent_weights_name))\n",
    "    except FileNotFoundError:\n",
    "        pass"
   ]
  },
  {
   "cell_type": "code",
   "execution_count": 20,
   "metadata": {},
   "outputs": [],
   "source": [
    "import seaborn\n",
    "\n",
    "seaborn.set()"
   ]
  },
  {
   "cell_type": "code",
   "execution_count": 21,
   "metadata": {},
   "outputs": [],
   "source": [
    "# import itertools\n",
    "from tqdm.auto import tqdm\n",
    "import numpy as np\n",
    "import warnings\n",
    "\n",
    "def calculate_noise_reward(agent, parameters, noise_batch, sigma, t_max, softmax_to_argmax):\n",
    "    with warnings.catch_warnings():\n",
    "        if n_jobs > 1: \n",
    "            import os, sys\n",
    "\n",
    "            os.chdir('/home/morph/projects/courses/Practical_RL/week01_intro')\n",
    "            sys.path.append('.')\n",
    "\n",
    "            from pong import make_pong\n",
    "        warnings.filterwarnings(\"ignore\", category=DeprecationWarning)\n",
    "        env = gym.make(env_name)\n",
    "        R = []\n",
    "        for noise in noise_batch:\n",
    "            noised_parameters = parameters + sigma * noise\n",
    "            set_agent_parameters(agent, noised_parameters)\n",
    "            R.append(generate_session(env, agent, t_max=t_max, softmax_to_argmax=softmax_to_argmax))\n",
    "\n",
    "    return R\n",
    "\n",
    "def calculate_rewards_batch(agent, parameters, npop, sigma, t_max, softmax_to_argmax):\n",
    "    N = np.random.randn(npop // 2, parameters.shape[0])\n",
    "    N = np.vstack([N, -N])\n",
    "\n",
    "    assert npop % n_jobs == 0, \"npop should be divisible by n_jobs\"\n",
    "    batch_size = npop // n_jobs\n",
    "    R = Parallel(n_jobs=n_jobs)(\n",
    "        delayed(calculate_noise_reward)(agent, parameters, N[batch_j * batch_size:(batch_j + 1) * batch_size], sigma, t_max, softmax_to_argmax)\n",
    "        for batch_j in range(npop // batch_size)\n",
    "    )\n",
    "    R = np.concatenate(R)\n",
    "    return R, N\n",
    "\n",
    "class ReplayBuffer:\n",
    "    def __init__(self, size):\n",
    "        self.buffer = []\n",
    "        self.size = size\n",
    "\n",
    "    def add(self, parameters, reward):\n",
    "        self.buffer.append((parameters, reward))\n",
    "        if len(self.buffer) > self.size:\n",
    "            self.buffer.pop(0)\n",
    "\n",
    "    def get(self):\n",
    "        return self.buffer\n",
    "\n",
    "replay_buffer = ReplayBuffer(size=100000)\n",
    "\n",
    "\n",
    "def compute_ranks(x):\n",
    "    \"\"\"\n",
    "    Returns ranks in [0, len(x))\n",
    "    Note: This is different from scipy.stats.rankdata, which returns ranks in [1, len(x)].\n",
    "    \"\"\"\n",
    "    assert x.ndim == 1\n",
    "    ranks = np.empty(len(x), dtype=int)\n",
    "    ranks[x.argsort()] = np.arange(len(x))\n",
    "    return ranks\n",
    "\n",
    "\n",
    "def compute_centered_ranks(x):\n",
    "    y = compute_ranks(x.ravel()).reshape(x.shape).astype(np.float32)\n",
    "    y /= (x.size - 1)\n",
    "    y -= .5\n",
    "    return y\n",
    "\n",
    "def update_parameters(parameters, alpha, npop, sigma, R, N, clip_value, replay_buffer=None):\n",
    "    \"\"\"\n",
    "    Update the parameters using new and past experiences with clipping.\n",
    "\n",
    "    Parameters:\n",
    "    parameters (np.array): The current parameters.\n",
    "    alpha (float): The learning rate.\n",
    "    npop (int): The population size.\n",
    "    sigma (float): The noise standard deviation.\n",
    "    A (np.array): The normalized rewards.\n",
    "    N (np.array): The noise vectors.\n",
    "    replay_buffer (ReplayBuffer): The replay buffer to store and retrieve past experiences.\n",
    "    threshold (float): The maximum allowed distance for past parameters.\n",
    "    clip_value (float): The maximum allowed change for the parameters.\n",
    "\n",
    "    Returns:\n",
    "    np.array: The updated parameters.\n",
    "    \"\"\"\n",
    "\n",
    "    if replay_buffer is not None:\n",
    "        d = np.prod(parameters.shape)  # the total number of parameters\n",
    "        threshold = np.sqrt(d) * sigma\n",
    "\n",
    "        # Gather all the noise and rewards that are close enough to the current parameters\n",
    "        close_noise = []\n",
    "        close_rewards = []\n",
    "        for old_parameters, old_reward in replay_buffer.get():\n",
    "            if np.linalg.norm(old_parameters - parameters) < threshold:\n",
    "                old_noise = (old_parameters - parameters) / sigma\n",
    "                close_noise.append(old_noise)\n",
    "                close_rewards.append(old_reward)\n",
    "                \n",
    "        for n, r in zip(N, R):\n",
    "            replay_buffer.add(parameters + sigma * n, r)\n",
    "            \n",
    "        # Combine the new and close old noise and rewards\n",
    "        if len(close_noise) > 0:\n",
    "            N = np.vstack((N, np.row_stack(close_noise)))\n",
    "            R = np.concatenate([R, np.array(close_rewards)])\n",
    "\n",
    "    R_ranks = compute_centered_ranks(R)\n",
    "    std = np.std(R_ranks)\n",
    "    mean = np.mean(R_ranks)\n",
    "    A = (R_ranks - mean) / (0.00001 + std)\n",
    "\n",
    "    # Calculate the combined update\n",
    "    update = alpha / (N.shape[0] * sigma) * np.dot(N.T, A)\n",
    "\n",
    "    # Clip the update to prevent too large changes\n",
    "    clipped_update = np.clip(update, -clip_value, clip_value)\n",
    "\n",
    "    # Apply the update\n",
    "    parameters += clipped_update\n",
    "    clipped_ratio = np.mean(update != clipped_update)\n",
    "    parameters *= weight_decay\n",
    "\n",
    "    return parameters, R, clipped_ratio\n"
   ]
  },
  {
   "cell_type": "code",
   "execution_count": 25,
   "metadata": {},
   "outputs": [
    {
     "name": "stderr",
     "output_type": "stream",
     "text": [
      "No artists with labels found to put in legend.  Note that artists whose label start with an underscore are ignored when legend() is called with no argument.\n"
     ]
    },
    {
     "name": "stdout",
     "output_type": "stream",
     "text": [
      "mean reward = 0.000\n"
     ]
    },
    {
     "data": {
      "image/png": "[encoded data removed]",
      "text/plain": [
       "<Figure size 800x400 with 2 Axes>"
      ]
     },
     "metadata": {},
     "output_type": "display_data"
    }
   ],
   "source": [
    "if log: \n",
    "    show_progress([0], log, reward_range=[-21, 21])"
   ]
  },
  {
   "cell_type": "code",
   "execution_count": 23,
   "metadata": {},
   "outputs": [
    {
     "name": "stdout",
     "output_type": "stream",
     "text": [
      "mean reward = 0.000\n"
     ]
    },
    {
     "name": "stderr",
     "output_type": "stream",
     "text": [
      "No artists with labels found to put in legend.  Note that artists whose label start with an underscore are ignored when legend() is called with no argument.\n"
     ]
    }
   ],
   "source": [
    "1"
   ]
  },
  {
   "cell_type": "code",
   "execution_count": 43,
   "metadata": {},
   "outputs": [
    {
     "name": "stderr",
     "output_type": "stream",
     "text": [
      "No artists with labels found to put in legend.  Note that artists whose label start with an underscore are ignored when legend() is called with no argument.\n"
     ]
    },
    {
     "name": "stdout",
     "output_type": "stream",
     "text": [
      "mean reward = 172.027\n"
     ]
    },
    {
     "data": {
      "image/png": "[encoded data removed]",
      "text/plain": [
       "<Figure size 800x400 with 2 Axes>"
      ]
     },
     "metadata": {},
     "output_type": "display_data"
    },
    {
     "name": "stdout",
     "output_type": "stream",
     "text": [
      "reward=172.03, randomness=0.000, clipped=0.00, weights_sum=9.8, rewards_count=280\n"
     ]
    },
    {
     "ename": "KeyboardInterrupt",
     "evalue": "",
     "output_type": "error",
     "traceback": [
      "\u001b[0;31m---------------------------------------------------------------------------\u001b[0m",
      "\u001b[0;31mKeyboardInterrupt\u001b[0m                         Traceback (most recent call last)",
      "Cell \u001b[0;32mIn[43], line 17\u001b[0m\n\u001b[1;32m     15\u001b[0m \u001b[39mfor\u001b[39;00m i \u001b[39min\u001b[39;00m \u001b[39mrange\u001b[39m(\u001b[39m100000\u001b[39m):\n\u001b[1;32m     16\u001b[0m     parameters \u001b[39m=\u001b[39m get_agent_parameters(agent)\n\u001b[0;32m---> 17\u001b[0m     R, N \u001b[39m=\u001b[39m calculate_rewards_batch(agent, parameters, npop, sigma, t_max, softmax_to_argmax)\n\u001b[1;32m     18\u001b[0m     mean \u001b[39m=\u001b[39m np\u001b[39m.\u001b[39mmean(R)\n\u001b[1;32m     19\u001b[0m     \u001b[39mif\u001b[39;00m mean \u001b[39m>\u001b[39m best_reward:\n",
      "Cell \u001b[0;32mIn[21], line 31\u001b[0m, in \u001b[0;36mcalculate_rewards_batch\u001b[0;34m(agent, parameters, npop, sigma, t_max, softmax_to_argmax)\u001b[0m\n\u001b[1;32m     29\u001b[0m \u001b[39massert\u001b[39;00m npop \u001b[39m%\u001b[39m n_jobs \u001b[39m==\u001b[39m \u001b[39m0\u001b[39m, \u001b[39m\"\u001b[39m\u001b[39mnpop should be divisible by n_jobs\u001b[39m\u001b[39m\"\u001b[39m\n\u001b[1;32m     30\u001b[0m batch_size \u001b[39m=\u001b[39m npop \u001b[39m/\u001b[39m\u001b[39m/\u001b[39m n_jobs\n\u001b[0;32m---> 31\u001b[0m R \u001b[39m=\u001b[39m Parallel(n_jobs\u001b[39m=\u001b[39;49mn_jobs)(\n\u001b[1;32m     32\u001b[0m     delayed(calculate_noise_reward)(agent, parameters, N[batch_j \u001b[39m*\u001b[39;49m batch_size:(batch_j \u001b[39m+\u001b[39;49m \u001b[39m1\u001b[39;49m) \u001b[39m*\u001b[39;49m batch_size], sigma, t_max, softmax_to_argmax)\n\u001b[1;32m     33\u001b[0m     \u001b[39mfor\u001b[39;49;00m batch_j \u001b[39min\u001b[39;49;00m \u001b[39mrange\u001b[39;49m(npop \u001b[39m/\u001b[39;49m\u001b[39m/\u001b[39;49m batch_size)\n\u001b[1;32m     34\u001b[0m )\n\u001b[1;32m     35\u001b[0m R \u001b[39m=\u001b[39m np\u001b[39m.\u001b[39mconcatenate(R)\n\u001b[1;32m     36\u001b[0m \u001b[39mreturn\u001b[39;00m R, N\n",
      "File \u001b[0;32m~/anaconda3/envs/py310/lib/python3.10/site-packages/joblib/parallel.py:1098\u001b[0m, in \u001b[0;36mParallel.__call__\u001b[0;34m(self, iterable)\u001b[0m\n\u001b[1;32m   1095\u001b[0m     \u001b[39mself\u001b[39m\u001b[39m.\u001b[39m_iterating \u001b[39m=\u001b[39m \u001b[39mFalse\u001b[39;00m\n\u001b[1;32m   1097\u001b[0m \u001b[39mwith\u001b[39;00m \u001b[39mself\u001b[39m\u001b[39m.\u001b[39m_backend\u001b[39m.\u001b[39mretrieval_context():\n\u001b[0;32m-> 1098\u001b[0m     \u001b[39mself\u001b[39;49m\u001b[39m.\u001b[39;49mretrieve()\n\u001b[1;32m   1099\u001b[0m \u001b[39m# Make sure that we get a last message telling us we are done\u001b[39;00m\n\u001b[1;32m   1100\u001b[0m elapsed_time \u001b[39m=\u001b[39m time\u001b[39m.\u001b[39mtime() \u001b[39m-\u001b[39m \u001b[39mself\u001b[39m\u001b[39m.\u001b[39m_start_time\n",
      "File \u001b[0;32m~/anaconda3/envs/py310/lib/python3.10/site-packages/joblib/parallel.py:975\u001b[0m, in \u001b[0;36mParallel.retrieve\u001b[0;34m(self)\u001b[0m\n\u001b[1;32m    973\u001b[0m \u001b[39mtry\u001b[39;00m:\n\u001b[1;32m    974\u001b[0m     \u001b[39mif\u001b[39;00m \u001b[39mgetattr\u001b[39m(\u001b[39mself\u001b[39m\u001b[39m.\u001b[39m_backend, \u001b[39m'\u001b[39m\u001b[39msupports_timeout\u001b[39m\u001b[39m'\u001b[39m, \u001b[39mFalse\u001b[39;00m):\n\u001b[0;32m--> 975\u001b[0m         \u001b[39mself\u001b[39m\u001b[39m.\u001b[39m_output\u001b[39m.\u001b[39mextend(job\u001b[39m.\u001b[39;49mget(timeout\u001b[39m=\u001b[39;49m\u001b[39mself\u001b[39;49m\u001b[39m.\u001b[39;49mtimeout))\n\u001b[1;32m    976\u001b[0m     \u001b[39melse\u001b[39;00m:\n\u001b[1;32m    977\u001b[0m         \u001b[39mself\u001b[39m\u001b[39m.\u001b[39m_output\u001b[39m.\u001b[39mextend(job\u001b[39m.\u001b[39mget())\n",
      "File \u001b[0;32m~/anaconda3/envs/py310/lib/python3.10/site-packages/joblib/_parallel_backends.py:567\u001b[0m, in \u001b[0;36mLokyBackend.wrap_future_result\u001b[0;34m(future, timeout)\u001b[0m\n\u001b[1;32m    564\u001b[0m \u001b[39m\"\"\"Wrapper for Future.result to implement the same behaviour as\u001b[39;00m\n\u001b[1;32m    565\u001b[0m \u001b[39mAsyncResults.get from multiprocessing.\"\"\"\u001b[39;00m\n\u001b[1;32m    566\u001b[0m \u001b[39mtry\u001b[39;00m:\n\u001b[0;32m--> 567\u001b[0m     \u001b[39mreturn\u001b[39;00m future\u001b[39m.\u001b[39;49mresult(timeout\u001b[39m=\u001b[39;49mtimeout)\n\u001b[1;32m    568\u001b[0m \u001b[39mexcept\u001b[39;00m CfTimeoutError \u001b[39mas\u001b[39;00m e:\n\u001b[1;32m    569\u001b[0m     \u001b[39mraise\u001b[39;00m \u001b[39mTimeoutError\u001b[39;00m \u001b[39mfrom\u001b[39;00m \u001b[39me\u001b[39;00m\n",
      "File \u001b[0;32m~/anaconda3/envs/py310/lib/python3.10/concurrent/futures/_base.py:453\u001b[0m, in \u001b[0;36mFuture.result\u001b[0;34m(self, timeout)\u001b[0m\n\u001b[1;32m    450\u001b[0m \u001b[39melif\u001b[39;00m \u001b[39mself\u001b[39m\u001b[39m.\u001b[39m_state \u001b[39m==\u001b[39m FINISHED:\n\u001b[1;32m    451\u001b[0m     \u001b[39mreturn\u001b[39;00m \u001b[39mself\u001b[39m\u001b[39m.\u001b[39m__get_result()\n\u001b[0;32m--> 453\u001b[0m \u001b[39mself\u001b[39;49m\u001b[39m.\u001b[39;49m_condition\u001b[39m.\u001b[39;49mwait(timeout)\n\u001b[1;32m    455\u001b[0m \u001b[39mif\u001b[39;00m \u001b[39mself\u001b[39m\u001b[39m.\u001b[39m_state \u001b[39min\u001b[39;00m [CANCELLED, CANCELLED_AND_NOTIFIED]:\n\u001b[1;32m    456\u001b[0m     \u001b[39mraise\u001b[39;00m CancelledError()\n",
      "File \u001b[0;32m~/anaconda3/envs/py310/lib/python3.10/threading.py:320\u001b[0m, in \u001b[0;36mCondition.wait\u001b[0;34m(self, timeout)\u001b[0m\n\u001b[1;32m    318\u001b[0m \u001b[39mtry\u001b[39;00m:    \u001b[39m# restore state no matter what (e.g., KeyboardInterrupt)\u001b[39;00m\n\u001b[1;32m    319\u001b[0m     \u001b[39mif\u001b[39;00m timeout \u001b[39mis\u001b[39;00m \u001b[39mNone\u001b[39;00m:\n\u001b[0;32m--> 320\u001b[0m         waiter\u001b[39m.\u001b[39;49macquire()\n\u001b[1;32m    321\u001b[0m         gotit \u001b[39m=\u001b[39m \u001b[39mTrue\u001b[39;00m\n\u001b[1;32m    322\u001b[0m     \u001b[39melse\u001b[39;00m:\n",
      "\u001b[0;31mKeyboardInterrupt\u001b[0m: "
     ]
    }
   ],
   "source": [
    "sigma = 0.01   # noise standard deviation\n",
    "alpha = 0.0001  # learning rate\n",
    "n_jobs = 7\n",
    "npop = n_jobs * 40      # population size\n",
    "determenistic_speed = 0.999\n",
    "clip_value = 0.005\n",
    "determenistic_start = 0.0001\n",
    "weight_decay = 1.0\n",
    "replay_buffer = None\n",
    "t_max = 2000\n",
    "\n",
    "best_reward = max([r[0] for r in log], default=-1000000)\n",
    "softmax_to_argmax = determenistic_start * determenistic_speed ** len(log)\n",
    "\n",
    "for i in range(100000):\n",
    "    parameters = get_agent_parameters(agent)\n",
    "    R, N = calculate_rewards_batch(agent, parameters, npop, sigma, t_max, softmax_to_argmax)\n",
    "    mean = np.mean(R)\n",
    "    if mean > best_reward:\n",
    "        best_reward = mean\n",
    "        torch.save(agent.state_dict(), agent_weights_name)\n",
    "        joblib.dump(log, open(reward_log_name, 'wb'))\n",
    "        print(\"New best reward:\", best_reward)\n",
    "\n",
    "    # Update parameters with PPO-like penalty\n",
    "    parameters, R, clipped_ratio = update_parameters(parameters, alpha, npop, sigma, R, N, clip_value=clip_value, replay_buffer=replay_buffer)\n",
    "    \n",
    "    set_agent_parameters(agent, parameters)\n",
    "    log.append([mean])\n",
    "    \n",
    "    if i % 1 == 0:\n",
    "        show_progress(R, log[300:], reward_range=[min(np.min(R), 0), np.max(R)])\n",
    "        if np.mean(R) >= REWARD_WIN:\n",
    "            print(\"You Win!\")\n",
    "            break\n",
    "\n",
    "    softmax_to_argmax *= determenistic_speed\n",
    "    print(f\"reward={mean:.2f}, randomness={softmax_to_argmax:.3f}, clipped={clipped_ratio:.2f}, weights_sum={np.linalg.norm(parameters):.1f}, rewards_count={len(R):d}\")\n"
   ]
  },
  {
   "cell_type": "code",
   "execution_count": 39,
   "metadata": {},
   "outputs": [],
   "source": [
    "import skvideo.io\n",
    "import gym\n",
    "\n",
    "class VideoRecorder(gym.Wrapper):\n",
    "    def __init__(self, env, path=None, metadata=None, enabled=True):\n",
    "        super().__init__(env)\n",
    "        self.enabled = enabled\n",
    "        self.metadata = metadata or {}\n",
    "        self.path = path\n",
    "        self.frames = []\n",
    "        self.render_history = []\n",
    "        self.encoder = None\n",
    "\n",
    "    def capture_frame(self):\n",
    "        frame = self.env.render()\n",
    "        self.frames.append(frame)\n",
    "\n",
    "    def close(self):\n",
    "        try:\n",
    "            if self.encoder is not None:\n",
    "                self.encoder.close()\n",
    "                self.encoder = None\n",
    "            if self.path:\n",
    "                if self.frames:\n",
    "                    skvideo.io.vwrite(self.path, self.frames)\n",
    "                self.frames = []\n",
    "        except Exception as e:\n",
    "            print(f\"Error when closing video recorder: {e}\")\n",
    "\n",
    "    @property\n",
    "    def functional(self):\n",
    "        \"\"\"Returns if the video recorder is functional, is enabled and not closed.\"\"\"\n",
    "        return self.enabled and not self.closed"
   ]
  },
  {
   "cell_type": "code",
   "execution_count": 42,
   "metadata": {},
   "outputs": [
    {
     "name": "stdout",
     "output_type": "stream",
     "text": [
      "Session 1: reward=224.76\n",
      "Session 2: reward=169.31\n",
      "Session 3: reward=48.36\n",
      "Session 4: reward=193.75\n",
      "Session 5: reward=180.82\n",
      "Session 6: reward=235.34\n",
      "Session 7: reward=241.52\n",
      "Session 8: reward=225.02\n",
      "Session 9: reward=271.95\n",
      "Session 10: reward=169.00\n",
      "Average reward: 195.98\n"
     ]
    }
   ],
   "source": [
    "env = gym.make(env_name, render_mode='rgb_array')\n",
    "env_monitor = VideoRecorder(env, path=\"videos/video.mp4\")\n",
    "env_monitor.enabled = True\n",
    "\n",
    "rewards = []\n",
    "for i in range(10):\n",
    "    reward = generate_session(env, agent, t_max, video_recorder=env_monitor, softmax_to_argmax=softmax_to_argmax)\n",
    "    rewards.append(reward)\n",
    "    print(f\"Session {i+1}: reward={reward:.2f}\")\n",
    "\n",
    "env_monitor.close()\n",
    "print(f\"Average reward: {np.mean(rewards):.2f}\")"
   ]
  },
  {
   "cell_type": "code",
   "execution_count": null,
   "metadata": {},
   "outputs": [],
   "source": []
  },
  {
   "cell_type": "code",
   "execution_count": null,
   "metadata": {},
   "outputs": [],
   "source": []
  }
 ],
 "metadata": {
  "kernelspec": {
   "display_name": "py310",
   "language": "python",
   "name": "py310"
  }
 },
 "nbformat": 4,
 "nbformat_minor": 2
}
