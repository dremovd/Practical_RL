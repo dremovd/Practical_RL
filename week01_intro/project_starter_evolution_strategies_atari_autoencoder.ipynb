{
 "cells": [
  {
   "attachments": {},
   "cell_type": "markdown",
   "metadata": {},
   "source": [
    "### Project :: Evolution Strategies\n",
    "\n",
    "![img](https://t4.ftcdn.net/jpg/00/17/46/81/240_F_17468143_wY3hsHyfNYoMdG9BlC56HI4JA7pNu63h.jpg)\n",
    "\n",
    "Remember the idea behind Evolution Strategies? Here's a neat [blog post](https://openai.com/research/evolution-strategies) about 'em.\n",
    "\n",
    "Can you reproduce their success? You will have to implement evolutionary strategies and see how they work.\n",
    "\n",
    "This project is optional; has several milestones each worth a number of points [and swag].\n",
    "\n",
    "__Milestones:__\n",
    "* [10pts] Basic prototype of evolutionary strategies that works in one thread on CartPole\n",
    "* [+5pts] Modify the code to make them work in parallel\n",
    "* [+5pts] if you can run ES distributedly on at least two PCs\n",
    "* [+10pts] Apply ES to play Atari Pong at least better than random\n",
    "* [++] Additional points for all kinds of cool stuff besides milestones\n",
    "\n",
    "__Rules:__\n",
    "\n",
    "* This is __not a mandatory assignment__, but it's a way to learn some cool things if you're getting bored with default assignments.\n",
    "* Once you decided to take on this project, please tell any of course staff members so that we can help ypu if you get stuck.\n",
    "* There's a default implementation of ES in this [openai repo](https://github.com/openai/evolution-strategies-starter). It's okay to look there if you get stuck or want to compare your solutions, but each copy-pasted chunk of code should be understood thoroughly. We'll test that with questions."
   ]
  },
  {
   "attachments": {},
   "cell_type": "markdown",
   "metadata": {},
   "source": [
    "### Tips on implementation\n",
    "\n",
    "* It would be very convenient later if you implemented a function that takes policy weights, generates a session and returns policy changes -- so that you could then run a bunch of them in parallel.\n",
    "\n",
    "* The simplest way you can do multiprocessing is to use [joblib](https://www.google.com/search?client=ubuntu&channel=fs&q=joblib&ie=utf-8&oe=utf-8)\n",
    "\n",
    "* For joblib, make sure random variables are independent in each job. Simply add `np.random.seed()` at the beginning of your \"job\" function.\n",
    "\n",
    "Later once you got distributed, you may need a storage that gathers gradients from all workers. In such case we recommend [Redis](https://redis.io/) due to it's simplicity.\n",
    "\n",
    "Here's a speed-optimized saver/loader to store numpy arrays in Redis as strings.\n",
    "\n"
   ]
  },
  {
   "cell_type": "code",
   "execution_count": 1,
   "metadata": {},
   "outputs": [],
   "source": [
    "import sys"
   ]
  },
  {
   "cell_type": "code",
   "execution_count": 2,
   "metadata": {},
   "outputs": [],
   "source": [
    "import joblib\n",
    "from six import BytesIO\n",
    "\n",
    "\n",
    "def dumps(data):\n",
    "    \"\"\"converts whatever to string\"\"\"\n",
    "    s = BytesIO()\n",
    "    joblib.dump(data, s)\n",
    "    return s.getvalue()\n",
    "\n",
    "\n",
    "def loads(self, string):\n",
    "    \"\"\"converts string to whatever was dumps'ed in it\"\"\"\n",
    "    return joblib.load(BytesIO(string))"
   ]
  },
  {
   "attachments": {},
   "cell_type": "markdown",
   "metadata": {},
   "source": [
    "### Tips on Atari games\n",
    "* There's all the pre-processing and tuning done for you in the code below\n",
    "    * Images rescaled to 42x42 to speed up computation\n",
    "    * We use last 4 frames as observations to account for ball velocity\n",
    "    * The code below requires ```pip install Image``` and ```pip install gym[atari]``` \n",
    "    * You may also need some dependencies for gym[atari] - google \"gym install all\" dependencies or use our pre-built environment.\n",
    "* The recommended agent architecture is a convolutional neural network. Dense network will also do.\n",
    "\n",
    "\n",
    "May the force be with you!"
   ]
  },
  {
   "cell_type": "code",
   "execution_count": 3,
   "metadata": {},
   "outputs": [
    {
     "name": "stdout",
     "output_type": "stream",
     "text": [
      "crossentropy_method.ipynb\n",
      "deep_crossentropy_method-continious.ipynb\n",
      "deep_crossentropy_method.ipynb\n",
      "LunarLander-v2_agent_10.pth\n",
      "LunarLander-v2_agent_12.pth\n",
      "LunarLander-v2_agent_13.pth\n",
      "LunarLander-v2_agent_4.pth\n",
      "LunarLander-v2_agent_9.pth\n",
      "LunarLander-v2_log_10.pkl\n",
      "LunarLander-v2_log_12.pkl\n",
      "LunarLander-v2_log_13.pkl\n",
      "LunarLander-v2_log_4.pkl\n",
      "LunarLander-v2_log_9.pkl\n",
      "pong_agent_{experiment_id}.pth\n",
      "pong_agent_log_10.pkl\n",
      "pong_agent_log_11.pkl\n",
      "pong_agent_log_12.pkl\n",
      "pong_agent_log_13.pkl\n",
      "pong_agent_log_14.pkl\n",
      "pong_agent_log_15.pkl\n",
      "pong_agent_log_16.pkl\n",
      "pong_agent_log_17.pkl\n",
      "pong_agent_log_18.pkl\n",
      "pong_agent_log_19.pkl\n",
      "pong_agent_log_20.pkl\n",
      "pong_agent_log_21.pkl\n",
      "pong_agent_log_22.pkl\n",
      "pong_agent_log_24.pkl\n",
      "pong_agent_log_25.pkl\n",
      "pong_agent_log_26.pkl\n",
      "pong_agent_log_27.pkl\n",
      "pong_agent_log_28.pkl\n",
      "pong_agent_log_29.pkl\n",
      "pong_agent_log_2.pkl\n",
      "pong_agent_log_30.pkl\n",
      "pong_agent_log_31.pkl\n",
      "pong_agent_log_3.pkl\n",
      "pong_agent_log_4.pkl\n",
      "pong_agent_log_5.pkl\n",
      "pong_agent_log_6.pkl\n",
      "pong_agent_log_7.pkl\n",
      "pong_agent_log_8.pkl\n",
      "pong_agent_log_9.pkl\n",
      "pong_agent_log.pkl\n",
      "pong_agent.pth\n",
      "pong.py\n",
      "primer_python_for_ml\n",
      "project_starter_evolution_strategies.ipynb\n",
      "__pycache__\n",
      "README.md\n",
      "seminar-es-task.ipynb\n",
      "seminar_gym_interface.ipynb\n",
      "videos\n"
     ]
    }
   ],
   "source": [
    "import os\n",
    "\n",
    "os.chdir('courses/Practical_RL/week01_intro/')\n",
    "!ls"
   ]
  },
  {
   "cell_type": "code",
   "execution_count": 4,
   "metadata": {},
   "outputs": [
    {
     "name": "stderr",
     "output_type": "stream",
     "text": [
      "A.L.E: Arcade Learning Environment (version 0.8.1+53f58b7)\n",
      "[Powered by Stella]\n"
     ]
    },
    {
     "name": "stdout",
     "output_type": "stream",
     "text": [
      "Discrete(6)\n"
     ]
    }
   ],
   "source": [
    "from pong import make_pong\n",
    "import numpy as np\n",
    "\n",
    "env = make_pong()\n",
    "print(env.action_space)"
   ]
  },
  {
   "cell_type": "code",
   "execution_count": 5,
   "metadata": {},
   "outputs": [
    {
     "name": "stdout",
     "output_type": "stream",
     "text": [
      "(4, 40, 40)\n"
     ]
    }
   ],
   "source": [
    "# get the initial state\n",
    "s = env.reset()\n",
    "print(s.shape)"
   ]
  },
  {
   "cell_type": "code",
   "execution_count": 6,
   "metadata": {},
   "outputs": [
    {
     "data": {
      "text/plain": [
       "<matplotlib.image.AxesImage at 0x7f4f41d1c0a0>"
      ]
     },
     "execution_count": 6,
     "metadata": {},
     "output_type": "execute_result"
    },
    {
     "data": {
      "image/png": "[encoded data removed]",
      "text/plain": [
       "<Figure size 640x480 with 1 Axes>"
      ]
     },
     "metadata": {},
     "output_type": "display_data"
    }
   ],
   "source": [
    "import matplotlib.pyplot as plt\n",
    "%matplotlib inline\n",
    "# plot first observation. Only one frame\n",
    "plt.imshow(s.swapaxes(1, 2).reshape(-1, s.shape[-1]).T)"
   ]
  },
  {
   "cell_type": "code",
   "execution_count": 7,
   "metadata": {},
   "outputs": [
    {
     "data": {
      "text/plain": [
       "<matplotlib.image.AxesImage at 0x7f4f3638eb60>"
      ]
     },
     "execution_count": 7,
     "metadata": {},
     "output_type": "execute_result"
    },
    {
     "data": {
      "image/png": "[encoded data removed]",
      "text/plain": [
       "<Figure size 640x480 with 1 Axes>"
      ]
     },
     "metadata": {},
     "output_type": "display_data"
    }
   ],
   "source": [
    "# next frame\n",
    "new_s, r, done, is_truncated, _ = env.step(env.action_space.sample())\n",
    "plt.imshow(new_s.swapaxes(1, 2).reshape(-1, s.shape[-1]).T)"
   ]
  },
  {
   "cell_type": "code",
   "execution_count": 8,
   "metadata": {},
   "outputs": [
    {
     "name": "stdout",
     "output_type": "stream",
     "text": [
      "0.0\n",
      "0.0\n",
      "0.0\n",
      "0.0\n",
      "0.0\n",
      "0.0\n",
      "0.0\n",
      "0.0\n",
      "0.0\n",
      "0.0\n"
     ]
    },
    {
     "data": {
      "text/plain": [
       "<matplotlib.image.AxesImage at 0x7f4f3640bf10>"
      ]
     },
     "execution_count": 8,
     "metadata": {},
     "output_type": "execute_result"
    },
    {
     "data": {
      "image/png": "[encoded data removed]",
      "text/plain": [
       "<Figure size 640x480 with 1 Axes>"
      ]
     },
     "metadata": {},
     "output_type": "display_data"
    }
   ],
   "source": [
    "# after 10 frames\n",
    "for _ in range(10):\n",
    "    new_s, r, done, is_truncated, _ = env.step(env.action_space.sample())\n",
    "    print(r)\n",
    "\n",
    "plt.imshow(new_s.swapaxes(1, 2).reshape(-1, s.shape[-1]).T, vmin=0)"
   ]
  },
  {
   "attachments": {},
   "cell_type": "markdown",
   "metadata": {},
   "source": [
    "## [+10pts] Apply ES to play Atari Pong at least better than random"
   ]
  },
  {
   "cell_type": "code",
   "execution_count": 9,
   "metadata": {},
   "outputs": [],
   "source": [
    "env_name = \"pong\""
   ]
  },
  {
   "cell_type": "code",
   "execution_count": 10,
   "metadata": {},
   "outputs": [],
   "source": [
    "import numpy as np\n",
    "import matplotlib.pyplot as plt\n",
    "%matplotlib inline"
   ]
  },
  {
   "cell_type": "code",
   "execution_count": 11,
   "metadata": {},
   "outputs": [
    {
     "name": "stdout",
     "output_type": "stream",
     "text": [
      "Starting virtual X frame buffer: Xvfb.\n"
     ]
    }
   ],
   "source": [
    "import os\n",
    "\n",
    "# This code creates a virtual display to draw game images on.\n",
    "# It will have no effect if your machine has a monitor.\n",
    "if type(os.environ.get(\"DISPLAY\")) is not str or len(os.environ.get(\"DISPLAY\")) == 0:\n",
    "    !bash ../xvfb start\n",
    "    os.environ['DISPLAY'] = ':1'"
   ]
  },
  {
   "cell_type": "code",
   "execution_count": 12,
   "metadata": {},
   "outputs": [],
   "source": [
    "import gym\n",
    "%matplotlib inline\n",
    "import matplotlib.pyplot as plt\n",
    "import numpy as np\n",
    "import cv2\n"
   ]
  },
  {
   "cell_type": "code",
   "execution_count": 13,
   "metadata": {},
   "outputs": [],
   "source": [
    "buf = []\n",
    "use = []\n"
   ]
  },
  {
   "cell_type": "code",
   "execution_count": 14,
   "metadata": {},
   "outputs": [
    {
     "data": {
      "text/plain": [
       "(4, 40, 40)"
      ]
     },
     "execution_count": 14,
     "metadata": {},
     "output_type": "execute_result"
    }
   ],
   "source": [
    "input_shape = new_s.shape\n",
    "input_shape"
   ]
  },
  {
   "cell_type": "code",
   "execution_count": 15,
   "metadata": {},
   "outputs": [
    {
     "name": "stdout",
     "output_type": "stream",
     "text": [
      "Episode finished after 926 timesteps\n",
      "Episode finished after 825 timesteps\n",
      "Episode finished after 974 timesteps\n",
      "Episode finished after 792 timesteps\n",
      "Episode finished after 838 timesteps\n",
      "Episode finished after 1046 timesteps\n",
      "Episode finished after 1286 timesteps\n",
      "Episode finished after 919 timesteps\n",
      "Episode finished after 822 timesteps\n",
      "Episode finished after 963 timesteps\n",
      "Episode finished after 936 timesteps\n",
      "Episode finished after 1059 timesteps\n",
      "Episode finished after 824 timesteps\n",
      "Episode finished after 902 timesteps\n",
      "Episode finished after 901 timesteps\n",
      "Episode finished after 920 timesteps\n",
      "Episode finished after 1240 timesteps\n",
      "Episode finished after 826 timesteps\n",
      "Episode finished after 842 timesteps\n",
      "Episode finished after 824 timesteps\n",
      "Episode finished after 1067 timesteps\n",
      "Episode finished after 1240 timesteps\n",
      "Episode finished after 792 timesteps\n",
      "Episode finished after 1000 timesteps\n",
      "Episode finished after 982 timesteps\n",
      "Episode finished after 1027 timesteps\n",
      "Episode finished after 824 timesteps\n",
      "Episode finished after 1000 timesteps\n",
      "Episode finished after 824 timesteps\n",
      "Episode finished after 1060 timesteps\n",
      "Episode finished after 880 timesteps\n",
      "Episode finished after 880 timesteps\n",
      "Episode finished after 927 timesteps\n",
      "Episode finished after 1167 timesteps\n",
      "Episode finished after 904 timesteps\n",
      "Episode finished after 878 timesteps\n",
      "Episode finished after 889 timesteps\n",
      "Episode finished after 842 timesteps\n",
      "Episode finished after 1103 timesteps\n",
      "Episode finished after 921 timesteps\n",
      "Episode finished after 838 timesteps\n",
      "Episode finished after 854 timesteps\n",
      "Episode finished after 852 timesteps\n",
      "Episode finished after 910 timesteps\n",
      "Episode finished after 764 timesteps\n",
      "Episode finished after 852 timesteps\n",
      "Episode finished after 1050 timesteps\n",
      "Episode finished after 792 timesteps\n",
      "Episode finished after 1026 timesteps\n",
      "Episode finished after 904 timesteps\n",
      "Episode finished after 933 timesteps\n",
      "Episode finished after 1019 timesteps\n",
      "Episode finished after 764 timesteps\n",
      "Episode finished after 1088 timesteps\n",
      "Episode finished after 933 timesteps\n",
      "Episode finished after 824 timesteps\n",
      "Episode finished after 824 timesteps\n",
      "Episode finished after 885 timesteps\n",
      "Episode finished after 992 timesteps\n",
      "Episode finished after 792 timesteps\n",
      "Episode finished after 825 timesteps\n",
      "Episode finished after 1035 timesteps\n",
      "Episode finished after 764 timesteps\n",
      "Episode finished after 764 timesteps\n",
      "Episode finished after 852 timesteps\n",
      "Episode finished after 935 timesteps\n",
      "Episode finished after 1098 timesteps\n",
      "Episode finished after 855 timesteps\n",
      "Episode finished after 873 timesteps\n",
      "Episode finished after 839 timesteps\n",
      "Episode finished after 903 timesteps\n",
      "Episode finished after 1112 timesteps\n",
      "Episode finished after 895 timesteps\n",
      "Episode finished after 932 timesteps\n",
      "Episode finished after 906 timesteps\n",
      "Episode finished after 764 timesteps\n",
      "Episode finished after 987 timesteps\n",
      "Episode finished after 881 timesteps\n",
      "Episode finished after 764 timesteps\n",
      "Episode finished after 1009 timesteps\n",
      "Episode finished after 1081 timesteps\n",
      "Episode finished after 792 timesteps\n",
      "Episode finished after 1139 timesteps\n",
      "Episode finished after 793 timesteps\n",
      "Episode finished after 1116 timesteps\n",
      "Episode finished after 870 timesteps\n",
      "Episode finished after 889 timesteps\n",
      "Episode finished after 884 timesteps\n",
      "Episode finished after 852 timesteps\n",
      "Episode finished after 1079 timesteps\n",
      "Episode finished after 852 timesteps\n",
      "Episode finished after 1129 timesteps\n",
      "Episode finished after 962 timesteps\n",
      "Episode finished after 871 timesteps\n",
      "Episode finished after 1010 timesteps\n",
      "Episode finished after 939 timesteps\n",
      "Episode finished after 824 timesteps\n",
      "Episode finished after 792 timesteps\n",
      "Episode finished after 886 timesteps\n",
      "Episode finished after 792 timesteps\n",
      "Episode finished after 852 timesteps\n",
      "Episode finished after 959 timesteps\n",
      "Episode finished after 958 timesteps\n",
      "Episode finished after 1168 timesteps\n",
      "Episode finished after 1010 timesteps\n",
      "Episode finished after 951 timesteps\n",
      "Episode finished after 854 timesteps\n",
      "Episode finished after 1026 timesteps\n"
     ]
    }
   ],
   "source": [
    "alpha = 0.6\n",
    "N = 100000\n",
    "\n",
    "while len(buf) < N:\n",
    "    observation = env.reset()\n",
    "    delta = np.zeros(input_shape)\n",
    "    for t in range(3000):\n",
    "        use_ = 0\n",
    "        if t >= 10:\n",
    "            use_ = 1\n",
    "        use.append(use_)\n",
    "        prev_observation = observation\n",
    "        \n",
    "        action = env.action_space.sample()\n",
    "        observation, r, done, is_truncated, i = env.step(action)\n",
    "        \n",
    "        delta_now = observation - prev_observation\n",
    "        delta = alpha * delta_now + (1 - alpha) * delta\n",
    "        buf.append(delta)\n",
    "        \n",
    "        if done:\n",
    "            print(\"Episode finished after {} timesteps\".format(t+1))\n",
    "            break"
   ]
  },
  {
   "cell_type": "code",
   "execution_count": 16,
   "metadata": {},
   "outputs": [],
   "source": [
    "images = np.array(buf)\n",
    "use = np.array(use)"
   ]
  },
  {
   "cell_type": "code",
   "execution_count": 17,
   "metadata": {},
   "outputs": [
    {
     "data": {
      "text/plain": [
       "(100091,)"
      ]
     },
     "execution_count": 17,
     "metadata": {},
     "output_type": "execute_result"
    }
   ],
   "source": [
    "use.shape"
   ]
  },
  {
   "cell_type": "code",
   "execution_count": 18,
   "metadata": {},
   "outputs": [
    {
     "data": {
      "text/plain": [
       "(100091, 4, 40, 40)"
      ]
     },
     "execution_count": 18,
     "metadata": {},
     "output_type": "execute_result"
    }
   ],
   "source": [
    "images.shape"
   ]
  },
  {
   "cell_type": "code",
   "execution_count": 19,
   "metadata": {},
   "outputs": [],
   "source": [
    "images = images[use > 0]"
   ]
  },
  {
   "cell_type": "code",
   "execution_count": 20,
   "metadata": {},
   "outputs": [],
   "source": [
    "mean = np.mean(images)\n",
    "std = np.std(images)\n",
    "images = (images - mean) / std"
   ]
  },
  {
   "cell_type": "code",
   "execution_count": 21,
   "metadata": {},
   "outputs": [
    {
     "data": {
      "image/png": "[encoded data removed]",
      "text/plain": [
       "<Figure size 640x480 with 1 Axes>"
      ]
     },
     "metadata": {},
     "output_type": "display_data"
    },
    {
     "data": {
      "image/png": "[encoded data removed]",
      "text/plain": [
       "<Figure size 640x480 with 1 Axes>"
      ]
     },
     "metadata": {},
     "output_type": "display_data"
    },
    {
     "data": {
      "image/png": "[encoded data removed]",
      "text/plain": [
       "<Figure size 640x480 with 1 Axes>"
      ]
     },
     "metadata": {},
     "output_type": "display_data"
    },
    {
     "data": {
      "image/png": "[encoded data removed]",
      "text/plain": [
       "<Figure size 640x480 with 1 Axes>"
      ]
     },
     "metadata": {},
     "output_type": "display_data"
    }
   ],
   "source": [
    "mean = np.mean(images, axis = 0)\n",
    "plt.imshow(mean[0,:,:])\n",
    "plt.show()\n",
    "plt.imshow(mean[1,:,:])\n",
    "plt.show()\n",
    "plt.imshow(mean[2,:,:])\n",
    "plt.show()\n",
    "plt.imshow(mean[3,:,:])\n",
    "plt.show()"
   ]
  },
  {
   "cell_type": "code",
   "execution_count": 22,
   "metadata": {},
   "outputs": [
    {
     "data": {
      "text/plain": [
       "<matplotlib.image.AxesImage at 0x7f4fa26d5ea0>"
      ]
     },
     "execution_count": 22,
     "metadata": {},
     "output_type": "execute_result"
    },
    {
     "data": {
      "image/png": "[encoded data removed]",
      "text/plain": [
       "<Figure size 640x480 with 1 Axes>"
      ]
     },
     "metadata": {},
     "output_type": "display_data"
    }
   ],
   "source": [
    "i = 109\n",
    "plt.imshow(images[i][0])"
   ]
  },
  {
   "cell_type": "code",
   "execution_count": 23,
   "metadata": {},
   "outputs": [
    {
     "data": {
      "text/plain": [
       "0.1138682177962357"
      ]
     },
     "execution_count": 23,
     "metadata": {},
     "output_type": "execute_result"
    }
   ],
   "source": [
    "np.mean(np.abs(images))"
   ]
  },
  {
   "cell_type": "code",
   "execution_count": 24,
   "metadata": {},
   "outputs": [
    {
     "name": "stdout",
     "output_type": "stream",
     "text": [
      "X_out: float32 (99011, 6400)\n"
     ]
    }
   ],
   "source": [
    "X = np.array(images, dtype=np.float32)\n",
    "# we need our target to be 1 dimensional\n",
    "X_out = X.reshape((X.shape[0], -1))\n",
    "print('X_out:', X_out.dtype, X_out.shape)\n"
   ]
  },
  {
   "cell_type": "code",
   "execution_count": 25,
   "metadata": {},
   "outputs": [
    {
     "data": {
      "text/plain": [
       "array([[-6.4850633e-04, -6.4850633e-04, -6.4850633e-04, ...,\n",
       "         1.5195889e-02,  1.5195889e-02,  1.5195889e-02],\n",
       "       [-3.4167356e-04, -3.4167356e-04, -3.4167356e-04, ...,\n",
       "         5.9960848e-03,  5.9960848e-03,  5.9960848e-03],\n",
       "       [-2.1894043e-04, -2.1894043e-04, -2.1894043e-04, ...,\n",
       "         2.3939905e-03,  2.3161629e-03,  2.3161629e-03],\n",
       "       ...,\n",
       "       [-1.3711835e-04, -1.3711835e-04, -1.3711835e-04, ...,\n",
       "        -1.2886143e-04, -1.3711835e-04, -1.3711835e-04],\n",
       "       [-1.3711835e-04, -1.3711835e-04,  1.4725204e-04, ...,\n",
       "        -5.2994525e-05, -1.3711835e-04, -1.3711835e-04],\n",
       "       [-1.3711835e-04, -1.3711835e-04, -2.3370196e-05, ...,\n",
       "        -9.0868602e-04, -1.3711835e-04, -1.3711835e-04]], dtype=float32)"
      ]
     },
     "execution_count": 25,
     "metadata": {},
     "output_type": "execute_result"
    }
   ],
   "source": [
    "X_out"
   ]
  },
  {
   "cell_type": "code",
   "execution_count": 26,
   "metadata": {},
   "outputs": [],
   "source": [
    "import torch\n",
    "from torch import nn\n",
    "\n",
    "class Autoencoder(nn.Module):\n",
    "    conv_num_filters = 16\n",
    "    filter_size = 3\n",
    "    pool_size = 2\n",
    "    encode_size = 32\n",
    "    dense_mid_size = 128\n",
    "    bottleneck_size = 10\n",
    "    def __init__(self):\n",
    "        super(Autoencoder, self).__init__()\n",
    "        self.encoder = nn.Sequential(\n",
    "            nn.Conv2d(X.shape[1], self.conv_num_filters, self.filter_size, padding=1),\n",
    "            nn.ReLU(True),\n",
    "            nn.Conv2d(self.conv_num_filters, self.conv_num_filters, self.filter_size, padding=1),\n",
    "            nn.ReLU(True),\n",
    "            nn.MaxPool2d(self.pool_size, self.pool_size),\n",
    "            nn.Conv2d(self.conv_num_filters, 2 * self.conv_num_filters, self.filter_size, padding=1),\n",
    "            nn.ReLU(True),\n",
    "            nn.MaxPool2d(self.pool_size, self.pool_size),\n",
    "            nn.Flatten(),\n",
    "            nn.Linear(2 * self.conv_num_filters * self.bottleneck_size ** 2, self.dense_mid_size),\n",
    "            nn.ReLU(True),\n",
    "            nn.Linear(self.dense_mid_size, self.encode_size),\n",
    "            nn.ReLU(True)\n",
    "        )\n",
    "        \n",
    "        self.decoder = nn.Sequential(\n",
    "            nn.Linear(self.encode_size, self.dense_mid_size),\n",
    "            nn.ReLU(True),\n",
    "            nn.Linear(self.dense_mid_size, 2 * self.conv_num_filters * self.bottleneck_size ** 2),\n",
    "            nn.ReLU(True),\n",
    "            nn.Unflatten(1, (2 * self.conv_num_filters, self.bottleneck_size, self.bottleneck_size)),\n",
    "            nn.Upsample(scale_factor=self.pool_size, mode='nearest'),\n",
    "            nn.Conv2d(2 * self.conv_num_filters, self.conv_num_filters, self.filter_size, padding=1),\n",
    "            nn.ReLU(True),\n",
    "            nn.Upsample(scale_factor=self.pool_size, mode='nearest'),\n",
    "            nn.Conv2d(self.conv_num_filters, self.conv_num_filters, self.filter_size, padding=1),\n",
    "            nn.ReLU(True),\n",
    "            nn.Conv2d(self.conv_num_filters, X.shape[1], self.filter_size, padding=1),\n",
    "            nn.ReLU(True),\n",
    "            nn.Flatten()\n",
    "        )\n",
    "\n",
    "    def forward(self, x):\n",
    "        for layer in self.encoder:\n",
    "            x = layer(x)\n",
    "        for layer in self.decoder:\n",
    "            x = layer(x)\n",
    "        return x\n"
   ]
  },
  {
   "cell_type": "code",
   "execution_count": 32,
   "metadata": {},
   "outputs": [],
   "source": [
    "import torch.optim as optim\n",
    "from tqdm.auto import tqdm\n",
    "from torch.utils.data import TensorDataset, DataLoader\n",
    "device = torch.device(\"cuda\" if torch.cuda.is_available() else \"cpu\")  # use GPU if available\n",
    "model = Autoencoder().to(device)"
   ]
  },
  {
   "cell_type": "code",
   "execution_count": 35,
   "metadata": {},
   "outputs": [],
   "source": [
    "def train_model(model, X, X_out, device, epochs=50, learning_rate=0.00001):\n",
    "    # Convert input and output data to tensors and move to device\n",
    "    X_tensor = torch.tensor(X).float().to(device)\n",
    "    X_out_tensor = torch.tensor(X_out).float().to(device)\n",
    "\n",
    "    # Create a TensorDataset from input and output tensors\n",
    "    dataset = TensorDataset(X_tensor, X_out_tensor)\n",
    "\n",
    "    # Define batch size\n",
    "    batch_size = 1024\n",
    "\n",
    "    # Create a DataLoader\n",
    "    dataloader = DataLoader(dataset, batch_size=batch_size, shuffle=True)\n",
    "\n",
    "    # Define loss function\n",
    "    criterion = nn.MSELoss()\n",
    "\n",
    "    # Define optimizer\n",
    "    optimizer = optim.RMSprop(model.parameters(), lr=learning_rate)\n",
    "\n",
    "    # Train the model\n",
    "    model.train()\n",
    "    running_loss = []\n",
    "    for epoch in tqdm(range(epochs)):\n",
    "        for i, data in enumerate(dataloader, 0):\n",
    "            # Get inputs and move to device\n",
    "            inputs, labels = data[0].to(device), data[1].to(device)\n",
    "\n",
    "            # Zero the parameter gradients\n",
    "            optimizer.zero_grad()\n",
    "\n",
    "            # Forward pass\n",
    "            outputs = model(inputs)\n",
    "\n",
    "            # Compute loss\n",
    "            loss = criterion(outputs, labels)\n",
    "\n",
    "            # Backward pass and optimization\n",
    "            loss.backward()\n",
    "            optimizer.step()\n",
    "\n",
    "            # Accumulate loss\n",
    "            running_loss.append(loss.item())\n",
    "\n",
    "            if len(running_loss) == 10:\n",
    "                print('average loss: %.3f' % np.mean(running_loss))\n",
    "                running_loss = []\n",
    "\n",
    "    print('Finished Training')"
   ]
  },
  {
   "cell_type": "code",
   "execution_count": null,
   "metadata": {},
   "outputs": [],
   "source": [
    "train_model(model, X, X_out, device, epochs=50, learning_rate=0.0001)"
   ]
  },
  {
   "cell_type": "code",
   "execution_count": 36,
   "metadata": {},
   "outputs": [
    {
     "data": {
      "application/vnd.jupyter.widget-view+json": {
       "model_id": "e95ec4f58428451daa35e182ce054779",
       "version_major": 2,
       "version_minor": 0
      },
      "text/plain": [
       "  0%|          | 0/5 [00:00<?, ?it/s]"
      ]
     },
     "metadata": {},
     "output_type": "display_data"
    },
    {
     "name": "stdout",
     "output_type": "stream",
     "text": [
      "average loss: 0.742\n",
      "average loss: 0.742\n",
      "average loss: 0.740\n",
      "average loss: 0.748\n",
      "average loss: 0.744\n",
      "average loss: 0.744\n",
      "average loss: 0.736\n",
      "average loss: 0.744\n",
      "average loss: 0.739\n",
      "average loss: 0.743\n",
      "average loss: 0.742\n"
     ]
    }
   ],
   "source": [
    "train_model(model, X, X_out, device, epochs=5, learning_rate=0.00001)"
   ]
  },
  {
   "cell_type": "code",
   "execution_count": null,
   "metadata": {},
   "outputs": [],
   "source": [
    "train_model(model, X, X_out, device, epochs=5, learning_rate=0.000001)"
   ]
  },
  {
   "cell_type": "code",
   "execution_count": null,
   "metadata": {},
   "outputs": [],
   "source": [
    "assert False"
   ]
  },
  {
   "cell_type": "code",
   "execution_count": null,
   "metadata": {},
   "outputs": [
    {
     "data": {
      "text/plain": [
       "6"
      ]
     },
     "execution_count": 28,
     "metadata": {},
     "output_type": "execute_result"
    }
   ],
   "source": [
    "import torch\n",
    "import torch.nn as nn\n",
    "import torch.nn.functional as F\n",
    "\n",
    "n_actions = env.action_space.n\n",
    "class AtariCNN(nn.Module):\n",
    "    def __init__(self, input_shape, num_actions):\n",
    "        super().__init__()\n",
    "        self.conv1 = nn.Conv2d(input_shape[0], 32, kernel_size=3, stride=2)\n",
    "        self.conv2 = nn.Conv2d(32, 64, kernel_size=3, stride=2)\n",
    "        self.conv3 = nn.Conv2d(64, 64, kernel_size=3, stride=2)\n",
    "        self.fc4 = nn.Linear(4 * 4 * 64, 512)\n",
    "        self.head = nn.Linear(512, num_actions)\n",
    "\n",
    "    def forward(self, x):\n",
    "        assert x.shape[1:] == input_shape\n",
    "        x = x.float()\n",
    "        # print(x.shape)\n",
    "        x = F.relu(self.conv1(x))\n",
    "        # print(x.shape)\n",
    "        x = F.relu(self.conv2(x))\n",
    "        # print(x.shape)\n",
    "        x = F.relu(self.conv3(x))\n",
    "        # print(x.shape)\n",
    "        x = x.view(x.size(0), -1)\n",
    "        # print(x.shape)\n",
    "        x = self.fc4(x)\n",
    "        # print(x.shape)\n",
    "        x = F.relu(x)\n",
    "        return self.head(x)\n",
    "        \n",
    "agent = AtariCNN(input_shape, n_actions)\n",
    "n_actions"
   ]
  },
  {
   "cell_type": "code",
   "execution_count": null,
   "metadata": {},
   "outputs": [],
   "source": [
    "from PIL import Image\n",
    "from collections import Counter\n",
    "\n",
    "def generate_session(env, agent, t_max=1000, video_recorder=None, softmax_to_argmax=0.5):\n",
    "    state = env.reset()\n",
    "    total_reward = 0\n",
    "    actions = []\n",
    "    for t in range(t_max):\n",
    "        # use agent to predict a vector of action probabilities for state :s:\n",
    "        logits = agent(torch.tensor(state.reshape((1,) + state.shape), dtype=torch.float32))\n",
    "        if softmax_to_argmax < 0.001:\n",
    "            softmax_to_argmax = 0.001\n",
    "        probs = torch.softmax(logits / softmax_to_argmax, dim=1)[0].detach().numpy()\n",
    "        a = np.random.choice(n_actions, p=probs)\n",
    "        # a = np.argmax(probs)\n",
    "        actions.append(a)\n",
    "        # apply action to the environment, get rewards and new state\n",
    "        state, r, done, is_trucanted, info = env.step(a)\n",
    "        total_reward += r\n",
    "\n",
    "        # record session if a video_recorder object is provided\n",
    "        if video_recorder is not None:\n",
    "            video_recorder.capture_frame()\n",
    "\n",
    "        if done:\n",
    "            break\n",
    "    # print(total_reward, Counter(actions).most_common(), file=sys.stderr)\n",
    "\n",
    "    return total_reward"
   ]
  },
  {
   "cell_type": "code",
   "execution_count": null,
   "metadata": {},
   "outputs": [
    {
     "name": "stdout",
     "output_type": "stream",
     "text": [
      "reward: -2.0\n"
     ]
    }
   ],
   "source": [
    "dummy_reward = generate_session(env, agent, t_max=100)\n",
    "print(\"reward:\", dummy_reward)"
   ]
  },
  {
   "cell_type": "code",
   "execution_count": null,
   "metadata": {},
   "outputs": [],
   "source": [
    "from IPython.display import clear_output\n",
    "\n",
    "def moving_average(x, w):\n",
    "    return np.convolve(x, np.ones(w), 'valid') / w\n",
    "\n",
    "def show_progress(rewards_batch, log, reward_range=[-990, +10]):\n",
    "    \"\"\"\n",
    "    A convenience function that displays training progress. \n",
    "    No cool math here, just charts.\n",
    "    \"\"\"\n",
    "\n",
    "    mean_reward = np.mean(rewards_batch)\n",
    "    \n",
    "    clear_output(True)\n",
    "    print(\"mean reward = %.3f\" % (mean_reward))\n",
    "    plt.figure(figsize=[8, 4])\n",
    "    plt.subplot(1, 2, 1)\n",
    "    plt.plot(moving_average([r[0] for r in log], 5), label='Mean rewards')\n",
    "    plt.legend()\n",
    "    plt.grid()\n",
    "\n",
    "    plt.subplot(1, 2, 2)\n",
    "    plt.hist(rewards_batch, range=reward_range, bins=50)\n",
    "    plt.legend()\n",
    "    plt.grid()\n",
    "\n",
    "    plt.show()"
   ]
  },
  {
   "cell_type": "code",
   "execution_count": null,
   "metadata": {},
   "outputs": [],
   "source": [
    "log = []"
   ]
  },
  {
   "cell_type": "code",
   "execution_count": null,
   "metadata": {},
   "outputs": [],
   "source": [
    "from collections import OrderedDict\n",
    "\n",
    "def get_agent_parameters(agent):\n",
    "    return np.concatenate([\n",
    "        p.detach().numpy().flatten() \n",
    "        for p in agent.parameters()\n",
    "    ])\n",
    "\n",
    "def set_agent_parameters(agent, parameters):\n",
    "    shapes = [p.shape for p in agent.parameters()]\n",
    "    total_size = sum(np.product(s) for s in shapes)\n",
    "    assert total_size == parameters.shape[0], \"number of parameters should be %i but is %i\" % (total_size, parameters.shape[0])\n",
    "    \n",
    "    split_ix = np.cumsum([np.product(s) for s in shapes])[:-1]\n",
    "    split_parameters = np.split(parameters, split_ix)\n",
    "    reshaped_parameters = [torch.tensor(p.reshape(s)) for p, s in zip(split_parameters, shapes)]\n",
    "    \n",
    "    state_dict = OrderedDict(zip(agent.state_dict().keys(), reshaped_parameters))\n",
    "    agent.load_state_dict(state_dict)"
   ]
  },
  {
   "cell_type": "code",
   "execution_count": null,
   "metadata": {},
   "outputs": [],
   "source": [
    "parameters = get_agent_parameters(agent)\n",
    "set_agent_parameters(agent, parameters)"
   ]
  },
  {
   "cell_type": "code",
   "execution_count": null,
   "metadata": {},
   "outputs": [],
   "source": [
    "t_max = 3000\n",
    "REWARD_WIN = 21"
   ]
  },
  {
   "cell_type": "code",
   "execution_count": null,
   "metadata": {},
   "outputs": [],
   "source": [
    "experiment_id = 31\n",
    "reward_log_name = f'pong_agent_log_{experiment_id}.pkl'\n",
    "agent_weights_name = 'pong_agent_{experiment_id}.pth'\n",
    "start_with_best = True"
   ]
  },
  {
   "cell_type": "code",
   "execution_count": null,
   "metadata": {},
   "outputs": [],
   "source": [
    "import joblib\n",
    "from joblib import Parallel, delayed\n",
    "if start_with_best:\n",
    "    try:\n",
    "        log = joblib.load(reward_log_name)\n",
    "        agent = AtariCNN(input_shape, n_actions)\n",
    "        agent.load_state_dict(torch.load(agent_weights_name))\n",
    "    except FileNotFoundError:\n",
    "        pass"
   ]
  },
  {
   "cell_type": "code",
   "execution_count": null,
   "metadata": {},
   "outputs": [],
   "source": [
    "import seaborn\n",
    "\n",
    "seaborn.set()"
   ]
  },
  {
   "cell_type": "code",
   "execution_count": null,
   "metadata": {},
   "outputs": [],
   "source": [
    "# import itertools\n",
    "from tqdm.auto import tqdm\n",
    "import numpy as np\n",
    "import warnings\n",
    "\n",
    "def calculate_noise_reward(agent, parameters, noise_batch, sigma, t_max, softmax_to_argmax):\n",
    "    with warnings.catch_warnings():\n",
    "        if n_jobs > 1: \n",
    "            import os, sys\n",
    "\n",
    "            os.chdir('/home/morph/projects/courses/Practical_RL/week01_intro')\n",
    "            sys.path.append('.')\n",
    "\n",
    "            from pong import make_pong\n",
    "        warnings.filterwarnings(\"ignore\", category=DeprecationWarning)\n",
    "        env = make_pong()\n",
    "        R = []\n",
    "        for noise in noise_batch:\n",
    "            noised_parameters = parameters + sigma * noise\n",
    "            set_agent_parameters(agent, noised_parameters)\n",
    "            R.append(generate_session(env, agent, t_max=t_max, softmax_to_argmax=softmax_to_argmax))\n",
    "\n",
    "    return R\n",
    "\n",
    "def calculate_rewards_batch(agent, parameters, npop, sigma, t_max, softmax_to_argmax):\n",
    "    N = np.random.randn(npop // 2, parameters.shape[0])\n",
    "    N = np.vstack([N, -N])\n",
    "\n",
    "    assert npop % n_jobs == 0, \"npop should be divisible by n_jobs\"\n",
    "    batch_size = npop // n_jobs\n",
    "    R = Parallel(n_jobs=n_jobs)(\n",
    "        delayed(calculate_noise_reward)(agent, parameters, N[batch_j * batch_size:(batch_j + 1) * batch_size], sigma, t_max, softmax_to_argmax)\n",
    "        for batch_j in range(npop // batch_size)\n",
    "    )\n",
    "    R = np.concatenate(R)\n",
    "    return R, N\n",
    "\n",
    "class ReplayBuffer:\n",
    "    def __init__(self, size):\n",
    "        self.buffer = []\n",
    "        self.size = size\n",
    "\n",
    "    def add(self, parameters, reward):\n",
    "        self.buffer.append((parameters, reward))\n",
    "        if len(self.buffer) > self.size:\n",
    "            self.buffer.pop(0)\n",
    "\n",
    "    def get(self):\n",
    "        return self.buffer\n",
    "\n",
    "replay_buffer = ReplayBuffer(size=10000)\n",
    "\n",
    "from tqdm.auto import tqdm\n",
    "import numpy as np\n",
    "import warnings\n",
    "\n",
    "def calculate_noise_reward(agent, parameters, noise_batch, sigma, t_max, softmax_to_argmax):\n",
    "    with warnings.catch_warnings():\n",
    "        if n_jobs > 1: \n",
    "            import os, sys\n",
    "\n",
    "            os.chdir('/home/morph/projects/courses/Practical_RL/week01_intro')\n",
    "            sys.path.append('.')\n",
    "\n",
    "            from pong import make_pong\n",
    "        warnings.filterwarnings(\"ignore\", category=DeprecationWarning)\n",
    "        env = make_pong()\n",
    "        R = []\n",
    "        for noise in noise_batch:\n",
    "            noised_parameters = parameters + sigma * noise\n",
    "            set_agent_parameters(agent, noised_parameters)\n",
    "            R.append(generate_session(env, agent, t_max=t_max, softmax_to_argmax=softmax_to_argmax))\n",
    "\n",
    "    return R\n",
    "\n",
    "def calculate_rewards_batch(agent, parameters, npop, sigma, t_max, softmax_to_argmax):\n",
    "    N = np.random.randn(npop // 2, parameters.shape[0])\n",
    "    N = np.vstack([N, -N])\n",
    "\n",
    "    assert npop % n_jobs == 0, \"npop should be divisible by n_jobs\"\n",
    "    batch_size = npop // n_jobs\n",
    "    R = Parallel(n_jobs=n_jobs)(\n",
    "        delayed(calculate_noise_reward)(agent, parameters, N[batch_j * batch_size:(batch_j + 1) * batch_size], sigma, t_max, softmax_to_argmax)\n",
    "        for batch_j in range(npop // batch_size)\n",
    "    )\n",
    "    R = np.concatenate(R)\n",
    "    return R, N\n",
    "\n",
    "class ReplayBuffer:\n",
    "    def __init__(self, size):\n",
    "        self.buffer = []\n",
    "        self.size = size\n",
    "\n",
    "    def add(self, parameters, reward):\n",
    "        self.buffer.append((parameters, reward))\n",
    "        if len(self.buffer) > self.size:\n",
    "            self.buffer.pop(0)\n",
    "\n",
    "    def get(self):\n",
    "        return self.buffer\n",
    "\n",
    "replay_buffer = ReplayBuffer(size=100000)\n",
    "\n",
    "\n",
    "\n",
    "import pandas as pd\n",
    "def compute_centered_ranks(x):\n",
    "    y = pd.Series(x).rank(pct=True).values\n",
    "    y -= np.mean(y)\n",
    "    return y\n",
    "\n",
    "def update_parameters(parameters, alpha, npop, sigma, R, N, clip_value, replay_buffer=None):\n",
    "    \"\"\"\n",
    "    Update the parameters using new and past experiences with clipping.\n",
    "\n",
    "    Parameters:\n",
    "    parameters (np.array): The current parameters.\n",
    "    alpha (float): The learning rate.\n",
    "    npop (int): The population size.\n",
    "    sigma (float): The noise standard deviation.\n",
    "    A (np.array): The normalized rewards.\n",
    "    N (np.array): The noise vectors.\n",
    "    replay_buffer (ReplayBuffer): The replay buffer to store and retrieve past experiences.\n",
    "    threshold (float): The maximum allowed distance for past parameters.\n",
    "    clip_value (float): The maximum allowed change for the parameters.\n",
    "\n",
    "    Returns:\n",
    "    np.array: The updated parameters.\n",
    "    \"\"\"\n",
    "\n",
    "    if replay_buffer is not None:\n",
    "        d = np.prod(parameters.shape)  # the total number of parameters\n",
    "        threshold = np.sqrt(d) * sigma\n",
    "\n",
    "        # Gather all the noise and rewards that are close enough to the current parameters\n",
    "        close_noise = []\n",
    "        close_rewards = []\n",
    "        for old_parameters, old_reward in replay_buffer.get():\n",
    "            if np.linalg.norm(old_parameters - parameters) < threshold:\n",
    "                old_noise = (old_parameters - parameters) / sigma\n",
    "                close_noise.append(old_noise)\n",
    "                close_rewards.append(old_reward)\n",
    "                \n",
    "        for n, r in zip(N, R):\n",
    "            replay_buffer.add(parameters + sigma * n, r)\n",
    "            \n",
    "        # Combine the new and close old noise and rewards\n",
    "        if len(close_noise) > 0:\n",
    "            N = np.vstack((N, np.row_stack(close_noise)))\n",
    "            R = np.concatenate([R, np.array(close_rewards)])\n",
    "\n",
    "    R_ranks = compute_centered_ranks(R)\n",
    "    std = np.std(R_ranks)\n",
    "    mean = np.mean(R_ranks)\n",
    "    A = (R_ranks - mean) / (0.00001 + std)\n",
    "\n",
    "    # Calculate the combined update\n",
    "    update = alpha / (N.shape[0] * sigma) * np.dot(N.T, A)\n",
    "\n",
    "    # Clip the update to prevent too large changes\n",
    "    clipped_update = np.clip(update, -clip_value, clip_value)\n",
    "\n",
    "    # Apply the update\n",
    "    parameters += clipped_update\n",
    "    clipped_ratio = np.mean(update != clipped_update)\n",
    "    parameters *= weight_decay\n",
    "\n",
    "    return parameters, R, clipped_ratio"
   ]
  },
  {
   "cell_type": "code",
   "execution_count": null,
   "metadata": {},
   "outputs": [
    {
     "name": "stderr",
     "output_type": "stream",
     "text": [
      "WARNING:matplotlib.legend:No artists with labels found to put in legend.  Note that artists whose label start with an underscore are ignored when legend() is called with no argument.\n"
     ]
    },
    {
     "name": "stdout",
     "output_type": "stream",
     "text": [
      "mean reward = 0.000\n"
     ]
    },
    {
     "data": {
      "image/png": "[encoded data removed]",
      "text/plain": [
       "<Figure size 800x400 with 2 Axes>"
      ]
     },
     "metadata": {},
     "output_type": "display_data"
    }
   ],
   "source": [
    "if log:\n",
    "    show_progress([0], log, reward_range=[-21, 21])"
   ]
  },
  {
   "cell_type": "code",
   "execution_count": null,
   "metadata": {},
   "outputs": [],
   "source": [
    "replay_buffer = None"
   ]
  },
  {
   "cell_type": "code",
   "execution_count": null,
   "metadata": {},
   "outputs": [
    {
     "name": "stderr",
     "output_type": "stream",
     "text": [
      "WARNING:matplotlib.legend:No artists with labels found to put in legend.  Note that artists whose label start with an underscore are ignored when legend() is called with no argument.\n"
     ]
    },
    {
     "name": "stdout",
     "output_type": "stream",
     "text": [
      "mean reward = -20.357\n"
     ]
    },
    {
     "data": {
      "image/png": "[encoded data removed]",
      "text/plain": [
       "<Figure size 800x400 with 2 Axes>"
      ]
     },
     "metadata": {},
     "output_type": "display_data"
    },
    {
     "name": "stdout",
     "output_type": "stream",
     "text": [
      "reward=-20.36, randomness=0.019, clipped=0.36, weights_sum=25.3\n"
     ]
    },
    {
     "ename": "KeyboardInterrupt",
     "evalue": "",
     "output_type": "error",
     "traceback": [
      "\u001b[0;31m---------------------------------------------------------------------------\u001b[0m",
      "\u001b[0;31mKeyboardInterrupt\u001b[0m                         Traceback (most recent call last)",
      "Cell \u001b[0;32mIn[42], line 16\u001b[0m\n\u001b[1;32m     14\u001b[0m \u001b[39mfor\u001b[39;00m i \u001b[39min\u001b[39;00m \u001b[39mrange\u001b[39m(\u001b[39m100000\u001b[39m):\n\u001b[1;32m     15\u001b[0m     parameters \u001b[39m=\u001b[39m get_agent_parameters(agent)\n\u001b[0;32m---> 16\u001b[0m     R, N \u001b[39m=\u001b[39m calculate_rewards_batch(agent, parameters, npop, sigma, t_max, softmax_to_argmax)\n\u001b[1;32m     17\u001b[0m     mean \u001b[39m=\u001b[39m np\u001b[39m.\u001b[39mmean(R)\n\u001b[1;32m     18\u001b[0m     \u001b[39mif\u001b[39;00m mean \u001b[39m>\u001b[39m best_reward:\n",
      "Cell \u001b[0;32mIn[39], line 82\u001b[0m, in \u001b[0;36mcalculate_rewards_batch\u001b[0;34m(agent, parameters, npop, sigma, t_max, softmax_to_argmax)\u001b[0m\n\u001b[1;32m     80\u001b[0m \u001b[39massert\u001b[39;00m npop \u001b[39m%\u001b[39m n_jobs \u001b[39m==\u001b[39m \u001b[39m0\u001b[39m, \u001b[39m\"\u001b[39m\u001b[39mnpop should be divisible by n_jobs\u001b[39m\u001b[39m\"\u001b[39m\n\u001b[1;32m     81\u001b[0m batch_size \u001b[39m=\u001b[39m npop \u001b[39m/\u001b[39m\u001b[39m/\u001b[39m n_jobs\n\u001b[0;32m---> 82\u001b[0m R \u001b[39m=\u001b[39m Parallel(n_jobs\u001b[39m=\u001b[39;49mn_jobs)(\n\u001b[1;32m     83\u001b[0m     delayed(calculate_noise_reward)(agent, parameters, N[batch_j \u001b[39m*\u001b[39;49m batch_size:(batch_j \u001b[39m+\u001b[39;49m \u001b[39m1\u001b[39;49m) \u001b[39m*\u001b[39;49m batch_size], sigma, t_max, softmax_to_argmax)\n\u001b[1;32m     84\u001b[0m     \u001b[39mfor\u001b[39;49;00m batch_j \u001b[39min\u001b[39;49;00m \u001b[39mrange\u001b[39;49m(npop \u001b[39m/\u001b[39;49m\u001b[39m/\u001b[39;49m batch_size)\n\u001b[1;32m     85\u001b[0m )\n\u001b[1;32m     86\u001b[0m R \u001b[39m=\u001b[39m np\u001b[39m.\u001b[39mconcatenate(R)\n\u001b[1;32m     87\u001b[0m \u001b[39mreturn\u001b[39;00m R, N\n",
      "File \u001b[0;32m~/anaconda3/envs/py310/lib/python3.10/site-packages/joblib/parallel.py:1098\u001b[0m, in \u001b[0;36mParallel.__call__\u001b[0;34m(self, iterable)\u001b[0m\n\u001b[1;32m   1095\u001b[0m     \u001b[39mself\u001b[39m\u001b[39m.\u001b[39m_iterating \u001b[39m=\u001b[39m \u001b[39mFalse\u001b[39;00m\n\u001b[1;32m   1097\u001b[0m \u001b[39mwith\u001b[39;00m \u001b[39mself\u001b[39m\u001b[39m.\u001b[39m_backend\u001b[39m.\u001b[39mretrieval_context():\n\u001b[0;32m-> 1098\u001b[0m     \u001b[39mself\u001b[39;49m\u001b[39m.\u001b[39;49mretrieve()\n\u001b[1;32m   1099\u001b[0m \u001b[39m# Make sure that we get a last message telling us we are done\u001b[39;00m\n\u001b[1;32m   1100\u001b[0m elapsed_time \u001b[39m=\u001b[39m time\u001b[39m.\u001b[39mtime() \u001b[39m-\u001b[39m \u001b[39mself\u001b[39m\u001b[39m.\u001b[39m_start_time\n",
      "File \u001b[0;32m~/anaconda3/envs/py310/lib/python3.10/site-packages/joblib/parallel.py:975\u001b[0m, in \u001b[0;36mParallel.retrieve\u001b[0;34m(self)\u001b[0m\n\u001b[1;32m    973\u001b[0m \u001b[39mtry\u001b[39;00m:\n\u001b[1;32m    974\u001b[0m     \u001b[39mif\u001b[39;00m \u001b[39mgetattr\u001b[39m(\u001b[39mself\u001b[39m\u001b[39m.\u001b[39m_backend, \u001b[39m'\u001b[39m\u001b[39msupports_timeout\u001b[39m\u001b[39m'\u001b[39m, \u001b[39mFalse\u001b[39;00m):\n\u001b[0;32m--> 975\u001b[0m         \u001b[39mself\u001b[39m\u001b[39m.\u001b[39m_output\u001b[39m.\u001b[39mextend(job\u001b[39m.\u001b[39;49mget(timeout\u001b[39m=\u001b[39;49m\u001b[39mself\u001b[39;49m\u001b[39m.\u001b[39;49mtimeout))\n\u001b[1;32m    976\u001b[0m     \u001b[39melse\u001b[39;00m:\n\u001b[1;32m    977\u001b[0m         \u001b[39mself\u001b[39m\u001b[39m.\u001b[39m_output\u001b[39m.\u001b[39mextend(job\u001b[39m.\u001b[39mget())\n",
      "File \u001b[0;32m~/anaconda3/envs/py310/lib/python3.10/site-packages/joblib/_parallel_backends.py:567\u001b[0m, in \u001b[0;36mLokyBackend.wrap_future_result\u001b[0;34m(future, timeout)\u001b[0m\n\u001b[1;32m    564\u001b[0m \u001b[39m\"\"\"Wrapper for Future.result to implement the same behaviour as\u001b[39;00m\n\u001b[1;32m    565\u001b[0m \u001b[39mAsyncResults.get from multiprocessing.\"\"\"\u001b[39;00m\n\u001b[1;32m    566\u001b[0m \u001b[39mtry\u001b[39;00m:\n\u001b[0;32m--> 567\u001b[0m     \u001b[39mreturn\u001b[39;00m future\u001b[39m.\u001b[39;49mresult(timeout\u001b[39m=\u001b[39;49mtimeout)\n\u001b[1;32m    568\u001b[0m \u001b[39mexcept\u001b[39;00m CfTimeoutError \u001b[39mas\u001b[39;00m e:\n\u001b[1;32m    569\u001b[0m     \u001b[39mraise\u001b[39;00m \u001b[39mTimeoutError\u001b[39;00m \u001b[39mfrom\u001b[39;00m \u001b[39me\u001b[39;00m\n",
      "File \u001b[0;32m~/anaconda3/envs/py310/lib/python3.10/concurrent/futures/_base.py:453\u001b[0m, in \u001b[0;36mFuture.result\u001b[0;34m(self, timeout)\u001b[0m\n\u001b[1;32m    450\u001b[0m \u001b[39melif\u001b[39;00m \u001b[39mself\u001b[39m\u001b[39m.\u001b[39m_state \u001b[39m==\u001b[39m FINISHED:\n\u001b[1;32m    451\u001b[0m     \u001b[39mreturn\u001b[39;00m \u001b[39mself\u001b[39m\u001b[39m.\u001b[39m__get_result()\n\u001b[0;32m--> 453\u001b[0m \u001b[39mself\u001b[39;49m\u001b[39m.\u001b[39;49m_condition\u001b[39m.\u001b[39;49mwait(timeout)\n\u001b[1;32m    455\u001b[0m \u001b[39mif\u001b[39;00m \u001b[39mself\u001b[39m\u001b[39m.\u001b[39m_state \u001b[39min\u001b[39;00m [CANCELLED, CANCELLED_AND_NOTIFIED]:\n\u001b[1;32m    456\u001b[0m     \u001b[39mraise\u001b[39;00m CancelledError()\n",
      "File \u001b[0;32m~/anaconda3/envs/py310/lib/python3.10/threading.py:320\u001b[0m, in \u001b[0;36mCondition.wait\u001b[0;34m(self, timeout)\u001b[0m\n\u001b[1;32m    318\u001b[0m \u001b[39mtry\u001b[39;00m:    \u001b[39m# restore state no matter what (e.g., KeyboardInterrupt)\u001b[39;00m\n\u001b[1;32m    319\u001b[0m     \u001b[39mif\u001b[39;00m timeout \u001b[39mis\u001b[39;00m \u001b[39mNone\u001b[39;00m:\n\u001b[0;32m--> 320\u001b[0m         waiter\u001b[39m.\u001b[39;49macquire()\n\u001b[1;32m    321\u001b[0m         gotit \u001b[39m=\u001b[39m \u001b[39mTrue\u001b[39;00m\n\u001b[1;32m    322\u001b[0m     \u001b[39melse\u001b[39;00m:\n",
      "\u001b[0;31mKeyboardInterrupt\u001b[0m: "
     ]
    }
   ],
   "source": [
    "sigma = 0.01    # noise standard deviation\n",
    "alpha = 0.0005  # learning rate\n",
    "n_jobs = 7\n",
    "npop = n_jobs * 10      # population size\n",
    "determenistic_speed = 0.999\n",
    "clip_value = 0.005\n",
    "weight_decay = 1.0\n",
    "determenistic_start = 0.02\n",
    "replay_buffer = None\n",
    "\n",
    "best_reward = max([r[0] for r in log], default=-100)\n",
    "softmax_to_argmax = determenistic_start * determenistic_speed ** len(log)\n",
    "\n",
    "for i in range(100000):\n",
    "    parameters = get_agent_parameters(agent)\n",
    "    R, N = calculate_rewards_batch(agent, parameters, npop, sigma, t_max, softmax_to_argmax)\n",
    "    mean = np.mean(R)\n",
    "    if mean > best_reward:\n",
    "        best_reward = mean\n",
    "        torch.save(agent.state_dict(), agent_weights_name)\n",
    "        joblib.dump(log, open(reward_log_name, 'wb'))\n",
    "        print(\"New best reward:\", best_reward)\n",
    "\n",
    "    # Update parameters with PPO-like penalty\n",
    "    parameters, R, clipped_ratio = update_parameters(parameters, alpha, npop, sigma, R, N, clip_value=clip_value, replay_buffer=replay_buffer)\n",
    "    \n",
    "    set_agent_parameters(agent, parameters)\n",
    "    log.append([mean])\n",
    "    \n",
    "    if True:\n",
    "        show_progress(R, log, reward_range=[min(np.min(R), 0), np.max(R)])\n",
    "        if np.mean(R) >= REWARD_WIN:\n",
    "            print(\"You Win!\")\n",
    "            break\n",
    "\n",
    "    softmax_to_argmax *= determenistic_speed\n",
    "    print(f\"reward={mean:.2f}, randomness={softmax_to_argmax:.3f}, clipped={clipped_ratio:.2f}, weights_sum={np.linalg.norm(parameters):.1f}\")\n"
   ]
  },
  {
   "cell_type": "code",
   "execution_count": null,
   "metadata": {},
   "outputs": [
    {
     "data": {
      "text/plain": [
       "1"
      ]
     },
     "execution_count": 27,
     "metadata": {},
     "output_type": "execute_result"
    }
   ],
   "source": [
    "1"
   ]
  },
  {
   "cell_type": "code",
   "execution_count": null,
   "metadata": {},
   "outputs": [],
   "source": [
    "import gym\n",
    "\n",
    "class VideoRecorder(gym.Wrapper):\n",
    "    def __init__(self, env, path=None, metadata=None, enabled=True):\n",
    "        super().__init__(env)\n",
    "        self.enabled = enabled\n",
    "        self.metadata = metadata or {}\n",
    "        self.path = path\n",
    "        self.frames = []\n",
    "        self.render_history = []\n",
    "        self.encoder = None\n",
    "\n",
    "    def capture_frame(self):\n",
    "        frame = self.env.render()\n",
    "        self.frames.append(frame)\n",
    "\n",
    "    def close(self):\n",
    "        try:\n",
    "            if self.encoder is not None:\n",
    "                self.encoder.close()\n",
    "                self.encoder = None\n",
    "            if self.path:\n",
    "                if self.frames:\n",
    "                    skvideo.io.vwrite(self.path, self.frames)\n",
    "                self.frames = []\n",
    "        except Exception as e:\n",
    "            print(f\"Error when closing video recorder: {e}\")\n",
    "\n",
    "    @property\n",
    "    def functional(self):\n",
    "        \"\"\"Returns if the video recorder is functional, is enabled and not closed.\"\"\"\n",
    "        return self.enabled and not self.closed"
   ]
  },
  {
   "cell_type": "code",
   "execution_count": null,
   "metadata": {},
   "outputs": [
    {
     "ename": "NameNotFound",
     "evalue": "Environment pong doesn't exist. Did you mean: `Pong`?",
     "output_type": "error",
     "traceback": [
      "\u001b[0;31m---------------------------------------------------------------------------\u001b[0m",
      "\u001b[0;31mNameNotFound\u001b[0m                              Traceback (most recent call last)",
      "Cell \u001b[0;32mIn[27], line 5\u001b[0m\n\u001b[1;32m      1\u001b[0m \u001b[39m# Record sessions\u001b[39;00m\n\u001b[1;32m      2\u001b[0m \u001b[39m# from gym.wrappers.monitoring.video_recorder import VideoRecorder\u001b[39;00m\n\u001b[1;32m      3\u001b[0m \u001b[39m# import skvideo.io\u001b[39;00m\n\u001b[0;32m----> 5\u001b[0m env \u001b[39m=\u001b[39m gym\u001b[39m.\u001b[39;49mmake(env_name, render_mode\u001b[39m=\u001b[39;49m\u001b[39m'\u001b[39;49m\u001b[39mrgb_array\u001b[39;49m\u001b[39m'\u001b[39;49m)\n\u001b[1;32m      6\u001b[0m env_monitor \u001b[39m=\u001b[39m VideoRecorder(env, path\u001b[39m=\u001b[39m\u001b[39m\"\u001b[39m\u001b[39mvideos/video.mp4\u001b[39m\u001b[39m\"\u001b[39m)\n\u001b[1;32m      7\u001b[0m env_monitor\u001b[39m.\u001b[39menabled \u001b[39m=\u001b[39m \u001b[39mTrue\u001b[39;00m\n",
      "File \u001b[0;32m~/anaconda3/envs/py310/lib/python3.10/site-packages/gym/envs/registration.py:569\u001b[0m, in \u001b[0;36mmake\u001b[0;34m(id, max_episode_steps, autoreset, apply_api_compatibility, disable_env_checker, **kwargs)\u001b[0m\n\u001b[1;32m    563\u001b[0m         logger\u001b[39m.\u001b[39mwarn(\n\u001b[1;32m    564\u001b[0m             \u001b[39mf\u001b[39m\u001b[39m\"\u001b[39m\u001b[39mUsing the latest versioned environment `\u001b[39m\u001b[39m{\u001b[39;00mnew_env_id\u001b[39m}\u001b[39;00m\u001b[39m` \u001b[39m\u001b[39m\"\u001b[39m\n\u001b[1;32m    565\u001b[0m             \u001b[39mf\u001b[39m\u001b[39m\"\u001b[39m\u001b[39minstead of the unversioned environment `\u001b[39m\u001b[39m{\u001b[39;00m\u001b[39mid\u001b[39m\u001b[39m}\u001b[39;00m\u001b[39m`.\u001b[39m\u001b[39m\"\u001b[39m\n\u001b[1;32m    566\u001b[0m         )\n\u001b[1;32m    568\u001b[0m     \u001b[39mif\u001b[39;00m spec_ \u001b[39mis\u001b[39;00m \u001b[39mNone\u001b[39;00m:\n\u001b[0;32m--> 569\u001b[0m         _check_version_exists(ns, name, version)\n\u001b[1;32m    570\u001b[0m         \u001b[39mraise\u001b[39;00m error\u001b[39m.\u001b[39mError(\u001b[39mf\u001b[39m\u001b[39m\"\u001b[39m\u001b[39mNo registered env with id: \u001b[39m\u001b[39m{\u001b[39;00m\u001b[39mid\u001b[39m\u001b[39m}\u001b[39;00m\u001b[39m\"\u001b[39m)\n\u001b[1;32m    572\u001b[0m _kwargs \u001b[39m=\u001b[39m spec_\u001b[39m.\u001b[39mkwargs\u001b[39m.\u001b[39mcopy()\n",
      "File \u001b[0;32m~/anaconda3/envs/py310/lib/python3.10/site-packages/gym/envs/registration.py:219\u001b[0m, in \u001b[0;36m_check_version_exists\u001b[0;34m(ns, name, version)\u001b[0m\n\u001b[1;32m    216\u001b[0m \u001b[39mif\u001b[39;00m get_env_id(ns, name, version) \u001b[39min\u001b[39;00m registry:\n\u001b[1;32m    217\u001b[0m     \u001b[39mreturn\u001b[39;00m\n\u001b[0;32m--> 219\u001b[0m _check_name_exists(ns, name)\n\u001b[1;32m    220\u001b[0m \u001b[39mif\u001b[39;00m version \u001b[39mis\u001b[39;00m \u001b[39mNone\u001b[39;00m:\n\u001b[1;32m    221\u001b[0m     \u001b[39mreturn\u001b[39;00m\n",
      "File \u001b[0;32m~/anaconda3/envs/py310/lib/python3.10/site-packages/gym/envs/registration.py:197\u001b[0m, in \u001b[0;36m_check_name_exists\u001b[0;34m(ns, name)\u001b[0m\n\u001b[1;32m    194\u001b[0m namespace_msg \u001b[39m=\u001b[39m \u001b[39mf\u001b[39m\u001b[39m\"\u001b[39m\u001b[39m in namespace \u001b[39m\u001b[39m{\u001b[39;00mns\u001b[39m}\u001b[39;00m\u001b[39m\"\u001b[39m \u001b[39mif\u001b[39;00m ns \u001b[39melse\u001b[39;00m \u001b[39m\"\u001b[39m\u001b[39m\"\u001b[39m\n\u001b[1;32m    195\u001b[0m suggestion_msg \u001b[39m=\u001b[39m \u001b[39mf\u001b[39m\u001b[39m\"\u001b[39m\u001b[39mDid you mean: `\u001b[39m\u001b[39m{\u001b[39;00msuggestion[\u001b[39m0\u001b[39m]\u001b[39m}\u001b[39;00m\u001b[39m`?\u001b[39m\u001b[39m\"\u001b[39m \u001b[39mif\u001b[39;00m suggestion \u001b[39melse\u001b[39;00m \u001b[39m\"\u001b[39m\u001b[39m\"\u001b[39m\n\u001b[0;32m--> 197\u001b[0m \u001b[39mraise\u001b[39;00m error\u001b[39m.\u001b[39mNameNotFound(\n\u001b[1;32m    198\u001b[0m     \u001b[39mf\u001b[39m\u001b[39m\"\u001b[39m\u001b[39mEnvironment \u001b[39m\u001b[39m{\u001b[39;00mname\u001b[39m}\u001b[39;00m\u001b[39m doesn\u001b[39m\u001b[39m'\u001b[39m\u001b[39mt exist\u001b[39m\u001b[39m{\u001b[39;00mnamespace_msg\u001b[39m}\u001b[39;00m\u001b[39m. \u001b[39m\u001b[39m{\u001b[39;00msuggestion_msg\u001b[39m}\u001b[39;00m\u001b[39m\"\u001b[39m\n\u001b[1;32m    199\u001b[0m )\n",
      "\u001b[0;31mNameNotFound\u001b[0m: Environment pong doesn't exist. Did you mean: `Pong`?"
     ]
    }
   ],
   "source": [
    "# Record sessions\n",
    "# from gym.wrappers.monitoring.video_recorder import VideoRecorder\n",
    "# import skvideo.io\n",
    "\n",
    "env = gym.make(env_name, render_mode='rgb_array')\n",
    "env_monitor = VideoRecorder(env, path=\"videos/video.mp4\")\n",
    "env_monitor.enabled = True\n",
    "\n",
    "rewards = []\n",
    "for i in range(1):\n",
    "    _, _, reward = generate_session(env, agent, t_max, video_recorder=env_monitor)\n",
    "    rewards.append(reward)\n",
    "    print(f\"Session {i+1}: reward={reward:.2f}\")\n",
    "\n",
    "env_monitor.close()\n",
    "print(f\"Average reward: {np.mean(rewards):.2f}\")"
   ]
  },
  {
   "cell_type": "code",
   "execution_count": null,
   "metadata": {},
   "outputs": [],
   "source": []
  },
  {
   "cell_type": "code",
   "execution_count": null,
   "metadata": {},
   "outputs": [],
   "source": []
  }
 ],
 "metadata": {
  "kernelspec": {
   "display_name": "py310",
   "language": "python",
   "name": "py310"
  },
  "language_info": {
   "codemirror_mode": {
    "name": "ipython",
    "version": 3
   },
   "file_extension": ".py",
   "mimetype": "text/x-python",
   "name": "python",
   "nbconvert_exporter": "python",
   "pygments_lexer": "ipython3",
   "version": "3.10.9"
  }
 },
 "nbformat": 4,
 "nbformat_minor": 2
}
